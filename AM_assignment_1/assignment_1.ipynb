{
 "cells": [
  {
   "cell_type": "markdown",
   "metadata": {},
   "source": [
    "# **20248 - ASSET MANAGEMENT**\n",
    "## **GROUP WORK – ASSIGNMENT 1**\n",
    "## STYLE ANALYSIS\n",
    "\n",
    "**Group members:**\n",
    "\n",
    "3203817 – FABIO GIOVINAZZO \n",
    "\n",
    "3110347 – SIMONE DE LUCA \n",
    "\n",
    "3274708 – MANPREET KAUR SINGH \n",
    "\n",
    "3280738 – BLANKA MÓRI \n",
    "\n",
    "3099586 – GIUSEPPE ALBERTO DELL’OGLIO  "
   ]
  },
  {
   "cell_type": "markdown",
   "metadata": {},
   "source": [
    "**Overview**\n",
    "- Introduction to data\n",
    "- A1) Style Analysis by geography\n",
    "- A2) Style Analysis by sector\n",
    "- B) Risk-Return plane\n",
    "- Conclusion"
   ]
  },
  {
   "cell_type": "markdown",
   "metadata": {},
   "source": [
    "----------------------------------------------"
   ]
  },
  {
   "cell_type": "markdown",
   "metadata": {},
   "source": [
    "## **Introduction to the data**"
   ]
  },
  {
   "cell_type": "code",
   "execution_count": 72,
   "metadata": {},
   "outputs": [],
   "source": [
    "\n",
    "#setting up directory, importing packages\n",
    "import os\n",
    "os.chdir(\"C:/Users/blank/Documents/coding/AM_assignment_1\")\n",
    "import pandas as pd\n",
    "import matplotlib.pyplot as plt\n",
    "from sklearn.linear_model import LinearRegression\n",
    "from sklearn.metrics import r2_score\n",
    "import numpy as np\n",
    "import statsmodels.api as sm\n",
    "from contextlib import redirect_stdout\n",
    "from scipy.optimize import minimize\n",
    "from tabulate import tabulate\n",
    "from rich.console import Console\n",
    "from rich.table import Table\n",
    "from rich import box\n",
    "plt.style.use('fivethirtyeight')\n",
    "import seaborn as sns\n",
    "%matplotlib inline\n",
    "%config InlineBackend.figure_format = 'retina'\n",
    "import plotly.express as px\n",
    "import plotly.graph_objs as go\n",
    "\n",
    "\n"
   ]
  },
  {
   "cell_type": "code",
   "execution_count": 73,
   "metadata": {},
   "outputs": [],
   "source": [
    "#loading the file\n",
    "file_path = \"Cleaned_Book1BGF-Flexible-Multi-Asset-A2-EUR_fund.xlsx\"\n",
    "all_sheets = pd.read_excel(file_path, sheet_name=None)\n",
    "sheet_overviews = {sheet_name: df.head() for sheet_name, df in all_sheets.items()}"
   ]
  },
  {
   "cell_type": "markdown",
   "metadata": {},
   "source": [
    "Before the analysis let us have a look at the charcteristics of the dataset."
   ]
  },
  {
   "cell_type": "markdown",
   "metadata": {},
   "source": [
    "<details>\n",
    "\n",
    "<summary>Code for table</summary>\n",
    "\n",
    "```python\n",
    "# Print the head of sheets\n",
    "for key, value in sheet_overviews.items():\n",
    "    # Create a Rich Table\n",
    "    table = Table(title=key, box=box.ROUNDED)\n",
    "\n",
    "    # Convert NumPy arrays to lists\n",
    "    value = {col: value[col].tolist() for col in value}\n",
    "\n",
    "    # Add columns to the table\n",
    "    for col in value.keys():\n",
    "        table.add_column(col, justify=\"center\")\n",
    "\n",
    "    # Add rows to the table\n",
    "    for row in zip(*value.values()):\n",
    "        table.add_row(*map(str, row))\n",
    "\n",
    "    # Print the table using Rich\n",
    "    console = Console()\n",
    "    console.print(table)\n",
    "```\n",
    "\n",
    "</details>\n",
    "\n",
    "\n"
   ]
  },
  {
   "cell_type": "markdown",
   "metadata": {},
   "source": [
    "<pre style=\"white-space:pre;overflow-x:auto;line-height:normal;font-family:Menlo,'DejaVu Sans Mono',consolas,'Courier New',monospace\"><span style=\"font-style: italic\">                  Holdings                   </span>\n",
    "╭──────────────────────┬────────────────────╮\n",
    "│<span style=\"font-weight: bold\">     29-Sep-2023      </span>│<span style=\"font-weight: bold\">     Unnamed: 1     </span>│\n",
    "├──────────────────────┼────────────────────┤\n",
    "│ ESG Multi-Asset Fund │        nan         │\n",
    "│    Inception Date    │    04/Jan/1999     │\n",
    "│ Fund Holdings as of  │         -          │\n",
    "│   Total Net Assets   │ EUR 740,169,192.74 │\n",
    "│ Number of Securities │       760.00       │\n",
    "╰──────────────────────┴────────────────────╯\n",
    "</pre>\n",
    "\n",
    "<pre style=\"white-space:pre;overflow-x:auto;line-height:normal;font-family:Menlo,'DejaVu Sans Mono',consolas,'Courier New',monospace\"><span style=\"font-style: italic\">                               Historical                               </span>\n",
    "╭─────────────┬───────────────┬──────────────────┬─────────────────────╮\n",
    "│<span style=\"font-weight: bold\">    As Of    </span>│<span style=\"font-weight: bold\"> NAV per Share </span>│<span style=\"font-weight: bold\"> Daily NAV Change </span>│<span style=\"font-weight: bold\"> Daily NAV Change %  </span>│\n",
    "├─────────────┼───────────────┼──────────────────┼─────────────────────┤\n",
    "│ 11/Oct/2023 │     17.38     │       0.08       │ 0.4624277456647399  │\n",
    "│ 10/Oct/2023 │     17.3      │       0.12       │ 0.6984866123399301  │\n",
    "│ 09/Oct/2023 │     17.18     │       0.13       │ 0.7624633431085044  │\n",
    "│ 06/Oct/2023 │     17.05     │       -0.1       │ -0.5830903790087464 │\n",
    "│ 05/Oct/2023 │     17.15     │       0.06       │ 0.3510825043885313  │\n",
    "╰─────────────┴───────────────┴──────────────────┴─────────────────────╯\n",
    "</pre>\n",
    "\n",
    "<pre style=\"white-space:pre;overflow-x:auto;line-height:normal;font-family:Menlo,'DejaVu Sans Mono',consolas,'Courier New',monospace\"><span style=\"font-style: italic\">       Performance        </span>\n",
    "╭─────────────┬──────────╮\n",
    "│<span style=\"font-weight: bold\">     Mon     </span>│<span style=\"font-weight: bold\">  Return  </span>│\n",
    "├─────────────┼──────────┤\n",
    "│ 31/Jan/1999 │   0.0    │\n",
    "│ 28/Feb/1999 │ 0.098228 │\n",
    "│ 31/Mar/1999 │ 4.906774 │\n",
    "│ 30/Apr/1999 │ 0.748372 │\n",
    "│ 31/May/1999 │ -2.97122 │\n",
    "╰─────────────┴──────────╯\n",
    "</pre>\n"
   ]
  },
  {
   "cell_type": "markdown",
   "metadata": {},
   "source": [
    "### **Fund monthly returns**\n",
    "Let's start by extracting the **monthly returns for the Blackrock ESG Multi-Asset Fund** for the selected time period, because we are interested on a monthly level, not daily. ​"
   ]
  },
  {
   "cell_type": "code",
   "execution_count": 74,
   "metadata": {},
   "outputs": [],
   "source": [
    "# Extract data for the fund from the \"Historical\" sheet\n",
    "fund_monthly_returns = all_sheets['Performance '].copy()\n",
    "fund_monthly_returns['Mon'] = pd.to_datetime(fund_monthly_returns['Mon'], format='%d/%b/%Y')\n",
    "\n",
    "# Filter data for the specified period: October 2018 to September 2023\n",
    "start_date = pd.Timestamp('2018-10-01')\n",
    "end_date = pd.Timestamp('2023-09-30')\n",
    "fund_monthly_returns = fund_monthly_returns[(fund_monthly_returns['Mon'] >= start_date) & (fund_monthly_returns['Mon'] <= end_date)]\n",
    "#keep just year and month\n",
    "fund_monthly_returns['Mon'] = fund_monthly_returns['Mon'].dt.to_period('M')\n",
    "#sort values and head\n",
    "fund_monthly_returns = fund_monthly_returns.sort_values('Mon')\n",
    "fund_head=fund_monthly_returns.head()"
   ]
  },
  {
   "cell_type": "markdown",
   "metadata": {},
   "source": [
    "<details>\n",
    "\n",
    "<summary>Code for table</summary>\n",
    "\n",
    "```python\n",
    "# Print the head of sheets\n",
    "table = Table(title='Fund Returns', box=box.ROUNDED)\n",
    "\n",
    "# Add columns to the table\n",
    "table.add_column(\"Month\", justify=\"center\")\n",
    "table.add_column(\"Return\", justify=\"center\")\n",
    "\n",
    "# Add rows to the table\n",
    "for _, row in fund_head.iterrows():\n",
    "    table.add_row(str(row['Mon']), f\"{row['Return']:.2f}\")\n",
    "\n",
    "# Print the table using Rich\n",
    "console = Console()\n",
    "console.print(table)\n",
    "```\n",
    "\n",
    "</details>\n"
   ]
  },
  {
   "cell_type": "markdown",
   "metadata": {},
   "source": [
    "<pre style=\"white-space:pre;overflow-x:auto;line-height:normal;font-family:Menlo,'DejaVu Sans Mono',consolas,'Courier New',monospace\"><span style=\"font-style: italic\">    Fund Returns    </span>\n",
    "╭─────────┬────────╮\n",
    "│<span style=\"font-weight: bold\">  Month  </span>│<span style=\"font-weight: bold\"> Return </span>│\n",
    "├─────────┼────────┤\n",
    "│ 2018-10 │ -2.96  │\n",
    "│ 2018-11 │  0.27  │\n",
    "│ 2018-12 │ -4.32  │\n",
    "│ 2019-01 │  4.17  │\n",
    "│ 2019-02 │  2.44  │\n",
    "╰─────────┴────────╯\n",
    "</pre>\n"
   ]
  },
  {
   "cell_type": "markdown",
   "metadata": {},
   "source": [
    "<details>\n",
    "\n",
    "<summary>Code for figure</summary>\n",
    "\n",
    "```python\n",
    "fig = go.Figure(data=go.Scatter(x=fund_monthly_returns['Mon'].astype(str), \n",
    "                                y=fund_monthly_returns['Return'],\n",
    "                                marker_color='indianred'))\n",
    "fig.update_layout(\n",
    "    title='Monthly Fund Returns Over Time',\n",
    "    xaxis=dict(title='Months'),\n",
    "    yaxis=dict(title='Return (%change)'),\n",
    "    showlegend=False,\n",
    "    title_x=0.5, \n",
    ")\n",
    "fig.show()\n",
    "fig.write_image(\"fund1.png\", format=\"png\", width=1000, height=600, scale=3)\n",
    "```\n",
    "\n",
    "</details>\n",
    "\n",
    "![](fund.png)\n",
    "\n",
    "\n"
   ]
  },
  {
   "cell_type": "markdown",
   "metadata": {},
   "source": [
    "### **Indices monthly returns**\n",
    "\n",
    "We'll proceed to analyze the indices from the \"Indices.xlsx\" file. The file contained the actual return values, which due to  their wide range do not provide much value. It is rather adviced to look at the percentage changes, which show the dynamic movements of the  indices. By transforming the data this way, it is easier to find the best indices that follow the fluctuations of our fund."
   ]
  },
  {
   "cell_type": "code",
   "execution_count": 75,
   "metadata": {},
   "outputs": [],
   "source": [
    "indices_file_path = \"Indices.xlsx\"\n",
    "\n",
    "indices_monthly_df = pd.read_excel(indices_file_path, sheet_name=\"Monthly\")\n",
    "\n",
    "#convert it into year-month format so that it will be easy to merge\n",
    "indices_monthly_df['Mon'] = pd.to_datetime(indices_monthly_df['Mon'], format='%d/%m/%Y')\n",
    "indices_monthly_df['Mon'] = indices_monthly_df['Mon'].dt.to_period('M')\n",
    "\n",
    "indices_monthly_df.set_index('Mon', inplace=True)\n",
    "\n",
    "\n",
    "#multiply by 100 so that we get the numbers in percentage form, like in the case of the funds\n",
    "index_monthly_returns = 100*indices_monthly_df.pct_change().dropna()\n",
    "\n",
    "index_head=index_monthly_returns.head()"
   ]
  },
  {
   "cell_type": "markdown",
   "metadata": {},
   "source": [
    "For easier and more transparent analysis, we separate the dataset into geography and sector based indices."
   ]
  },
  {
   "cell_type": "code",
   "execution_count": 76,
   "metadata": {},
   "outputs": [],
   "source": [
    "#create two dataframes for geographical and equity analysis\n",
    "index_ge = index_monthly_returns.iloc[:, :17] \n",
    "index_se = index_monthly_returns.iloc[:, 17:] \n",
    "\n",
    "#merge fund and index datasets \n",
    "#dataset including geographic indices\n",
    "style_ge = pd.merge(fund_monthly_returns, index_ge, on='Mon')\n",
    "style_ge.set_index('Mon', inplace=True)\n",
    "\n",
    "#dataset including sector indices\n",
    "style_se = pd.merge(fund_monthly_returns, index_se, on='Mon')\n",
    "style_se.set_index('Mon', inplace=True)\n",
    "\n",
    "#peak at the geographic dataframe\n",
    "ge_head=style_ge.head()\n",
    "\n",
    "# Select the first few columns (adjust the number as needed)\n",
    "selected_columns = ge_head.columns[:10]\n"
   ]
  },
  {
   "cell_type": "markdown",
   "metadata": {},
   "source": [
    "<details>\n",
    "\n",
    "<summary>Code for table</summary>\n",
    "\n",
    "```python\n",
    "# Create a Rich Table\n",
    "table = Table(title='Returns by geographical areas', box=box.SIMPLE_HEAD, caption= 'First 5 months of the first 10 indices' )\n",
    "\n",
    "# Add columns to the table\n",
    "table.add_column(\"Month\", justify=\"center\")\n",
    "for column in selected_columns:\n",
    "    table.add_column(column, justify=\"center\")\n",
    "\n",
    "# Add rows to the table\n",
    "for index, row in ge_head.iterrows():\n",
    "    table.add_row(str(index), *[f\"{value:.4f}\" for value in row[selected_columns]])\n",
    "\n",
    "# Print the table using Rich\n",
    "console = Console()\n",
    "console.print(table)\n",
    "```\n",
    "\n",
    "</details>\n",
    "\n",
    "\n",
    "\n"
   ]
  },
  {
   "cell_type": "markdown",
   "metadata": {},
   "source": [
    "<pre style=\"white-space:pre;overflow-x:auto;line-height:normal;font-family:Menlo,'DejaVu Sans Mono',consolas,'Courier New',monospace\"><span style=\"font-style: italic\">                                           Returns by geographical areas                                           </span>\n",
    "                                                                                                                   \n",
    " <span style=\"font-weight: bold\">         </span> <span style=\"font-weight: bold\">         </span> <span style=\"font-weight: bold\"> I31914… </span> <span style=\"font-weight: bold\"> I00001EU </span> <span style=\"font-weight: bold\"> LBEATR… </span> <span style=\"font-weight: bold\"> LEGVTREU </span> <span style=\"font-weight: bold\"> LECPTR… </span> <span style=\"font-weight: bold\"> LE13TREU </span> <span style=\"font-weight: bold\"> LE35TR… </span> <span style=\"font-weight: bold\"> LE57TREU </span> <span style=\"font-weight: bold\"> I02113… </span> \n",
    " <span style=\"font-weight: bold\">  Month  </span> <span style=\"font-weight: bold\"> Return  </span> <span style=\"font-weight: bold\">  Index  </span> <span style=\"font-weight: bold\">  Index   </span> <span style=\"font-weight: bold\">  Index  </span> <span style=\"font-weight: bold\">  Index   </span> <span style=\"font-weight: bold\">  Index  </span> <span style=\"font-weight: bold\">  Index   </span> <span style=\"font-weight: bold\">  Index  </span> <span style=\"font-weight: bold\">  Index   </span> <span style=\"font-weight: bold\">  Index  </span> \n",
    " ───────────────────────────────────────────────────────────────────────────────────────────────────────────────── \n",
    "  2018-10   -2.9586   2.6896     1.7008    -0.0233    0.1339    -0.1811    0.0425    0.0574     0.0362    -0.2546  \n",
    "  2018-11   0.2710    0.2534     0.6681    0.2429     0.1465    -0.6428    0.0393    0.1368     0.2305    0.4772   \n",
    "  2018-12   -4.3243   -0.7671    0.8661    0.6447     0.3302    0.2085     0.1523    0.4230     0.5392    1.3978   \n",
    "  2019-01   4.1667    -0.1855    0.6832    0.9574     0.7007    1.0864     0.0493    0.3817     0.8957    2.1795   \n",
    "  2019-02   2.4407    0.9691     0.7100    -0.0774    0.0088    0.6874    -0.0004    0.0481     0.1504    -0.6459  \n",
    "                                                                                                                   \n",
    "<span style=\"color: #7f7f7f; text-decoration-color: #7f7f7f; font-style: italic\">                                      First 5 months of the first 10 indices                                       </span>\n",
    "</pre>\n"
   ]
  },
  {
   "cell_type": "markdown",
   "metadata": {},
   "source": [
    "<details>\n",
    "\n",
    "<summary>Code for figure</summary>\n",
    "\n",
    "```python\n",
    "# Create a Figure\n",
    "fig = go.Figure()\n",
    "\n",
    "# Add traces for each time series, excluding 'Return'\n",
    "for column in style_ge.columns:\n",
    "    if column != 'Return':\n",
    "        fig.add_trace(go.Scatter(x=style_ge.index.astype(str), \n",
    "                                 y=style_ge[column],\n",
    "                                 mode='lines', name=column, line=dict(width=2)))\n",
    "\n",
    "# Add 'Return' variable with a thick black dashed line\n",
    "fig.add_trace(go.Scatter(x=style_ge.index.astype(str), \n",
    "                         y=style_ge['Return'],\n",
    "                         mode='lines', name='Return', line=dict(dash='dash', width=3, color='black')))\n",
    "\n",
    "# Update layout\n",
    "fig.update_layout(\n",
    "    title='Geographic Indices Over Time',\n",
    "    xaxis=dict(title='Months'),\n",
    "    yaxis=dict(title='Return (%change)'),\n",
    "    showlegend=True,\n",
    "    legend=dict(x=0, y=-0.15, traceorder='normal', orientation='h', bgcolor='rgba(255, 255, 255, 0.7)'\n",
    "                , xanchor='left', yanchor='top'),\n",
    "    autosize=False,\n",
    "    title_x=0.5,\n",
    "    width=1000,\n",
    "    height=600\n",
    ")\n",
    "fig.write_image(\"style-ge.png\", format=\"png\", width=1000, height=600, scale=3)\n",
    "fig.show()\n",
    "```\n",
    "\n",
    "</details>\n",
    "\n",
    "![](ge.png)\n",
    "\n",
    "\n",
    "\n",
    "\n"
   ]
  },
  {
   "cell_type": "code",
   "execution_count": 77,
   "metadata": {},
   "outputs": [
    {
     "data": {
      "application/vnd.plotly.v1+json": {
       "config": {
        "plotlyServerURL": "https://plot.ly"
       },
       "data": [
        {
         "line": {
          "width": 2
         },
         "mode": "lines",
         "name": "I31914EU Index",
         "type": "scatter",
         "x": [
          "2018-10",
          "2018-11",
          "2018-12",
          "2019-01",
          "2019-02",
          "2019-03",
          "2019-04",
          "2019-05",
          "2019-06",
          "2019-07",
          "2019-08",
          "2019-09",
          "2019-10",
          "2019-11",
          "2019-12",
          "2020-01",
          "2020-02",
          "2020-03",
          "2020-04",
          "2020-05",
          "2020-06",
          "2020-07",
          "2020-08",
          "2020-09",
          "2020-10",
          "2020-11",
          "2020-12",
          "2021-01",
          "2021-02",
          "2021-03",
          "2021-04",
          "2021-05",
          "2021-06",
          "2021-07",
          "2021-08",
          "2021-09",
          "2021-10",
          "2021-11",
          "2021-12",
          "2022-01",
          "2022-02",
          "2022-03",
          "2022-04",
          "2022-05",
          "2022-06",
          "2022-07",
          "2022-08",
          "2022-09",
          "2022-10",
          "2022-11",
          "2022-12",
          "2023-01",
          "2023-02",
          "2023-03",
          "2023-04",
          "2023-05",
          "2023-06",
          "2023-07",
          "2023-08",
          "2023-09"
         ],
         "y": [
          2.689594356261016,
          0.25339968471767005,
          -0.7671102876381064,
          -0.1854717264291983,
          0.969106992688662,
          1.6155253101703737,
          0.39051209233225137,
          0.7732545145942904,
          -1.9568138339585261,
          2.4541815132455014,
          1.2651253638690019,
          1.1896086754125124,
          -2.135397104082404,
          1.31294348660429,
          -1.639512756660244,
          1.412470704145452,
          1.0176364143085426,
          0.2280944785204575,
          0.17872615934542146,
          -1.526427306765732,
          -0.9513535394026218,
          -5.009671371747693,
          -1.117555287763694,
          1.994669054749898,
          0.6766327194112298,
          -2.6142930455896884,
          -2.2291053059000254,
          0.716446735268983,
          0.09448207521673968,
          3.2783583136994032,
          -2.366663174023864,
          -1.541464513482893,
          3.0990350859206206,
          0.011619058186362885,
          0.4565445376884636,
          1.8579912481766936,
          0.15077232458398093,
          2.81664823150074,
          -1.0132265803106222,
          1.4473875672990522,
          -0.19319265452445444,
          0.9543537620607445,
          5.482120276776392,
          -1.49289293612207,
          2.5271546055118055,
          2.627977635879919,
          1.5829957042081455,
          2.8288385603172372,
          -0.6558185955389928,
          -3.7207632068532837,
          -3.2116090310438827,
          -1.4032650612814224,
          2.7937333126138997,
          -2.0270845988296537,
          -1.203635125834157,
          3.9320455894282125,
          -1.8650035427599243,
          -0.6230882309268604,
          2.0385274116519803,
          2.972312293678403
         ]
        },
        {
         "line": {
          "width": 2
         },
         "mode": "lines",
         "name": "I00001EU Index",
         "type": "scatter",
         "x": [
          "2018-10",
          "2018-11",
          "2018-12",
          "2019-01",
          "2019-02",
          "2019-03",
          "2019-04",
          "2019-05",
          "2019-06",
          "2019-07",
          "2019-08",
          "2019-09",
          "2019-10",
          "2019-11",
          "2019-12",
          "2020-01",
          "2020-02",
          "2020-03",
          "2020-04",
          "2020-05",
          "2020-06",
          "2020-07",
          "2020-08",
          "2020-09",
          "2020-10",
          "2020-11",
          "2020-12",
          "2021-01",
          "2021-02",
          "2021-03",
          "2021-04",
          "2021-05",
          "2021-06",
          "2021-07",
          "2021-08",
          "2021-09",
          "2021-10",
          "2021-11",
          "2021-12",
          "2022-01",
          "2022-02",
          "2022-03",
          "2022-04",
          "2022-05",
          "2022-06",
          "2022-07",
          "2022-08",
          "2022-09",
          "2022-10",
          "2022-11",
          "2022-12",
          "2023-01",
          "2023-02",
          "2023-03",
          "2023-04",
          "2023-05",
          "2023-06",
          "2023-07",
          "2023-08",
          "2023-09"
         ],
         "y": [
          1.700840438519724,
          0.668051661690483,
          0.8660890863206205,
          0.6832309277487569,
          0.7100282031832883,
          3.3589096388170647,
          0.21746918806178073,
          2.3551302135514263,
          -0.9181662628401144,
          2.506295018880378,
          3.7230298817812146,
          0.475589815134847,
          -1.9868454375694178,
          1.1320514662418013,
          -1.8412725785943884,
          3.23964836816939,
          2.7034538553143417,
          -0.4797651493570254,
          1.9588128667400673,
          -1.074327207020298,
          -0.3377115644224382,
          -3.6003102106479723,
          -1.9227153694003296,
          1.9310441379978727,
          0.2200748867401403,
          -1.6652979526920353,
          -2.100561510062915,
          -0.010111090588793559,
          -1.3547310999314055,
          1.986211868273724,
          -1.5962407242774423,
          -1.2200482325783635,
          3.823278858164203,
          1.1266396302878956,
          0.26197100470217727,
          0.9732638791613679,
          0.11926929644461293,
          3.116039588400743,
          -1.2733180839063163,
          -0.7404206697554261,
          -1.309324366826059,
          -1.8563249381184033,
          1.4670869539505915,
          -0.8866199543709263,
          0.8603030376466592,
          5.035567295896137,
          -1.4630424595502678,
          -1.7910656675144687,
          -2.164121435526356,
          -0.4809851508226215,
          -3.958270481399695,
          1.2921055096824174,
          -0.23858754412271477,
          0.09105005545775313,
          -0.9932151310663384,
          2.4274084663796103,
          -2.6308340506501215,
          -1.1165303139320182,
          0.9358786482120962,
          -0.09260077653379106
         ]
        },
        {
         "line": {
          "width": 2
         },
         "mode": "lines",
         "name": "LBEATREU Index",
         "type": "scatter",
         "x": [
          "2018-10",
          "2018-11",
          "2018-12",
          "2019-01",
          "2019-02",
          "2019-03",
          "2019-04",
          "2019-05",
          "2019-06",
          "2019-07",
          "2019-08",
          "2019-09",
          "2019-10",
          "2019-11",
          "2019-12",
          "2020-01",
          "2020-02",
          "2020-03",
          "2020-04",
          "2020-05",
          "2020-06",
          "2020-07",
          "2020-08",
          "2020-09",
          "2020-10",
          "2020-11",
          "2020-12",
          "2021-01",
          "2021-02",
          "2021-03",
          "2021-04",
          "2021-05",
          "2021-06",
          "2021-07",
          "2021-08",
          "2021-09",
          "2021-10",
          "2021-11",
          "2021-12",
          "2022-01",
          "2022-02",
          "2022-03",
          "2022-04",
          "2022-05",
          "2022-06",
          "2022-07",
          "2022-08",
          "2022-09",
          "2022-10",
          "2022-11",
          "2022-12",
          "2023-01",
          "2023-02",
          "2023-03",
          "2023-04",
          "2023-05",
          "2023-06",
          "2023-07",
          "2023-08",
          "2023-09"
         ],
         "y": [
          -0.023347347127378182,
          0.2428610330664327,
          0.6446765916095831,
          0.9573967075196421,
          -0.07739020091701576,
          1.615297891260159,
          0.11770772698682652,
          0.8042164196722101,
          1.885572742091357,
          1.4662637382677701,
          1.9137238514717492,
          -0.5323381951277129,
          -0.9152000330959975,
          -0.618117427772602,
          -0.7274414563983367,
          1.9889470196023051,
          0.34884875465144294,
          -3.39148188349615,
          1.1812120445489294,
          0.21101907065492753,
          0.9837122132959397,
          1.0166031243060258,
          -0.5368452049525851,
          1.0185277020293038,
          0.8408342593811291,
          0.270173882729452,
          0.1405962868178845,
          -0.4550797996646372,
          -1.5518129535667335,
          0.10602123537528652,
          -0.7069727772169632,
          -0.07817978666648795,
          0.3915032635843474,
          1.562767706988022,
          -0.4706658996664115,
          -1.0742824452122934,
          -0.6141654615643866,
          1.2482246482765413,
          -1.1965664227882922,
          -1.122574857014691,
          -2.2124178188100974,
          -2.1757553497902538,
          -3.4176549328866823,
          -1.508717786297309,
          -2.341533415845176,
          4.143806943683392,
          -4.874526699866955,
          -3.6899586196945444,
          0.11191777120438395,
          2.4106683152000707,
          -3.6402414070392908,
          2.2148343759915257,
          -2.0883780981700184,
          2.0044393775130454,
          0.12816800221056024,
          0.36175795024138147,
          -0.3292612695212749,
          0.1675580880545091,
          0.2966581015379832,
          -2.080789591965948
         ]
        },
        {
         "line": {
          "width": 2
         },
         "mode": "lines",
         "name": "LEGVTREU Index",
         "type": "scatter",
         "x": [
          "2018-10",
          "2018-11",
          "2018-12",
          "2019-01",
          "2019-02",
          "2019-03",
          "2019-04",
          "2019-05",
          "2019-06",
          "2019-07",
          "2019-08",
          "2019-09",
          "2019-10",
          "2019-11",
          "2019-12",
          "2020-01",
          "2020-02",
          "2020-03",
          "2020-04",
          "2020-05",
          "2020-06",
          "2020-07",
          "2020-08",
          "2020-09",
          "2020-10",
          "2020-11",
          "2020-12",
          "2021-01",
          "2021-02",
          "2021-03",
          "2021-04",
          "2021-05",
          "2021-06",
          "2021-07",
          "2021-08",
          "2021-09",
          "2021-10",
          "2021-11",
          "2021-12",
          "2022-01",
          "2022-02",
          "2022-03",
          "2022-04",
          "2022-05",
          "2022-06",
          "2022-07",
          "2022-08",
          "2022-09",
          "2022-10",
          "2022-11",
          "2022-12",
          "2023-01",
          "2023-02",
          "2023-03",
          "2023-04",
          "2023-05",
          "2023-06",
          "2023-07",
          "2023-08",
          "2023-09"
         ],
         "y": [
          0.1339407452559227,
          0.14648806869810294,
          0.33018243345919185,
          0.7007070400641302,
          0.008751765195857963,
          1.4213557804528154,
          0.0182106082863287,
          0.9410569246669054,
          1.3894066333515864,
          1.1075351529209243,
          1.8600529959467593,
          -0.7325898853899115,
          -1.0731441744608161,
          -0.3193920745030332,
          -0.7994840412010817,
          1.7660684614658084,
          0.7183573174223801,
          -2.902398548077567,
          1.0372268778457983,
          0.17480315690290293,
          0.7018188591690677,
          0.6627305903279312,
          -0.6251420683155762,
          0.7720784508842948,
          0.625580410879123,
          0.14740623074323,
          0.12893960431119567,
          -0.4284378990820792,
          -1.5521791936253804,
          -0.1098840354912145,
          -0.4718808324822965,
          -0.1229943911187914,
          0.2273137503310707,
          1.4116610465032986,
          -0.29036007055277535,
          -1.2297382603314921,
          -0.351918488718006,
          0.937084603130045,
          -1.197969985406555,
          -1.1416533687867991,
          -2.899809292478095,
          -2.627920205774703,
          -3.3318032840421563,
          -1.1530241429385857,
          -2.7422626289284935,
          4.117144642055326,
          -4.868097298194273,
          -3.943724016680572,
          -0.13450347595558299,
          2.4259157476229865,
          -3.2403759885295647,
          1.8670207693232799,
          -2.213791959523881,
          1.9921473378372134,
          0.15212865329410352,
          0.39059376058558914,
          -0.25542499034671984,
          0.12508908591366552,
          0.34192671895656446,
          -2.0106451279703896
         ]
        },
        {
         "line": {
          "width": 2
         },
         "mode": "lines",
         "name": "LECPTREU Index",
         "type": "scatter",
         "x": [
          "2018-10",
          "2018-11",
          "2018-12",
          "2019-01",
          "2019-02",
          "2019-03",
          "2019-04",
          "2019-05",
          "2019-06",
          "2019-07",
          "2019-08",
          "2019-09",
          "2019-10",
          "2019-11",
          "2019-12",
          "2020-01",
          "2020-02",
          "2020-03",
          "2020-04",
          "2020-05",
          "2020-06",
          "2020-07",
          "2020-08",
          "2020-09",
          "2020-10",
          "2020-11",
          "2020-12",
          "2021-01",
          "2021-02",
          "2021-03",
          "2021-04",
          "2021-05",
          "2021-06",
          "2021-07",
          "2021-08",
          "2021-09",
          "2021-10",
          "2021-11",
          "2021-12",
          "2022-01",
          "2022-02",
          "2022-03",
          "2022-04",
          "2022-05",
          "2022-06",
          "2022-07",
          "2022-08",
          "2022-09",
          "2022-10",
          "2022-11",
          "2022-12",
          "2023-01",
          "2023-02",
          "2023-03",
          "2023-04",
          "2023-05",
          "2023-06",
          "2023-07",
          "2023-08",
          "2023-09"
         ],
         "y": [
          -0.18114753129421235,
          -0.6428441627651105,
          0.20854371629506208,
          1.0864442810227581,
          0.6874065274000918,
          1.389162013694567,
          0.7183905190734086,
          -0.1539392829688846,
          1.5842527216066493,
          1.4286659144846947,
          0.6369338797040713,
          -0.7645144544229932,
          -0.20832949245037646,
          -0.25087139127006886,
          -0.05166640556931723,
          1.1559336861127756,
          -0.4007283332869038,
          -6.849791683351025,
          3.7321758246097847,
          0.17377193761658472,
          1.3190012343245128,
          1.5046903626127595,
          0.17514092107957513,
          0.30451980396994927,
          0.7756333074495192,
          1.026712232431004,
          0.16699032487106358,
          -0.11784031791717275,
          -0.774255906489052,
          0.21051011748616233,
          0.016604214898641168,
          -0.1357235399603529,
          0.41351779054266125,
          1.1407497972037994,
          -0.40709549778780163,
          -0.6442885981621793,
          -0.7420682576186222,
          0.19486687323897467,
          -0.10859190850091016,
          -1.3211711696334283,
          -2.514393386691438,
          -1.2016738896168055,
          -2.7410419559292465,
          -1.2300920978985386,
          -3.485881773746935,
          4.7005066527771255,
          -4.228900619047016,
          -3.3220172505868395,
          0.10399441573967216,
          2.808747037996162,
          -1.7726148182728885,
          2.221712695388156,
          -1.4446532789160527,
          0.9986562503542462,
          0.6996369934301416,
          0.16988940684032894,
          -0.44110025562159594,
          1.0501429277623764,
          0.1567564808276245,
          -0.8589212411312053
         ]
        },
        {
         "line": {
          "width": 2
         },
         "mode": "lines",
         "name": "LE13TREU Index",
         "type": "scatter",
         "x": [
          "2018-10",
          "2018-11",
          "2018-12",
          "2019-01",
          "2019-02",
          "2019-03",
          "2019-04",
          "2019-05",
          "2019-06",
          "2019-07",
          "2019-08",
          "2019-09",
          "2019-10",
          "2019-11",
          "2019-12",
          "2020-01",
          "2020-02",
          "2020-03",
          "2020-04",
          "2020-05",
          "2020-06",
          "2020-07",
          "2020-08",
          "2020-09",
          "2020-10",
          "2020-11",
          "2020-12",
          "2021-01",
          "2021-02",
          "2021-03",
          "2021-04",
          "2021-05",
          "2021-06",
          "2021-07",
          "2021-08",
          "2021-09",
          "2021-10",
          "2021-11",
          "2021-12",
          "2022-01",
          "2022-02",
          "2022-03",
          "2022-04",
          "2022-05",
          "2022-06",
          "2022-07",
          "2022-08",
          "2022-09",
          "2022-10",
          "2022-11",
          "2022-12",
          "2023-01",
          "2023-02",
          "2023-03",
          "2023-04",
          "2023-05",
          "2023-06",
          "2023-07",
          "2023-08",
          "2023-09"
         ],
         "y": [
          0.0425310279501101,
          0.03932987079409145,
          0.15229614481508946,
          0.04927020859337716,
          -0.0004305656394643087,
          0.22717817367263748,
          0.020190803089192855,
          0.004026607824503259,
          0.294628453012713,
          0.16283288539125085,
          0.1817001253196393,
          -0.196520352178986,
          -0.17130508821543433,
          -0.11115120740409212,
          -0.016669793369605834,
          0.1253927570270097,
          -0.02414763144396037,
          -1.0283698768280392,
          0.22456406163335885,
          0.11786143317991105,
          0.307545792128594,
          0.1823058491092544,
          0.007888585270787729,
          0.0953531312261946,
          0.16511416465099238,
          0.041745698052286784,
          -0.037501952669427574,
          -0.053624898650550534,
          -0.1451647708500925,
          0.05190843951863311,
          -0.04625386565475509,
          -0.028258478750120553,
          -0.0004290924694227982,
          0.1237400718304027,
          -0.07489155991405871,
          -0.11156376370354826,
          -0.2872983329934242,
          0.22084465680267673,
          -0.17094797445715848,
          -0.23095707039053615,
          -0.43645328590979915,
          -0.6772097053726056,
          -0.6805184154390354,
          -0.23673888886449612,
          -0.6837253123651688,
          0.9316333089522955,
          -1.5523529324570684,
          -1.1462639490926074,
          -0.004118100348504683,
          0.34649882177988367,
          -0.6945400962821258,
          0.5203872106577467,
          -0.5829680513683266,
          0.8506031549644355,
          0.20222072054612017,
          0.20803516921148457,
          -0.4781980191816304,
          0.5799900618101539,
          0.3664532888022931,
          -0.15658140256176178
         ]
        },
        {
         "line": {
          "width": 2
         },
         "mode": "lines",
         "name": "LE35TREU Index",
         "type": "scatter",
         "x": [
          "2018-10",
          "2018-11",
          "2018-12",
          "2019-01",
          "2019-02",
          "2019-03",
          "2019-04",
          "2019-05",
          "2019-06",
          "2019-07",
          "2019-08",
          "2019-09",
          "2019-10",
          "2019-11",
          "2019-12",
          "2020-01",
          "2020-02",
          "2020-03",
          "2020-04",
          "2020-05",
          "2020-06",
          "2020-07",
          "2020-08",
          "2020-09",
          "2020-10",
          "2020-11",
          "2020-12",
          "2021-01",
          "2021-02",
          "2021-03",
          "2021-04",
          "2021-05",
          "2021-06",
          "2021-07",
          "2021-08",
          "2021-09",
          "2021-10",
          "2021-11",
          "2021-12",
          "2022-01",
          "2022-02",
          "2022-03",
          "2022-04",
          "2022-05",
          "2022-06",
          "2022-07",
          "2022-08",
          "2022-09",
          "2022-10",
          "2022-11",
          "2022-12",
          "2023-01",
          "2023-02",
          "2023-03",
          "2023-04",
          "2023-05",
          "2023-06",
          "2023-07",
          "2023-08",
          "2023-09"
         ],
         "y": [
          0.05739260959780612,
          0.13678079774090968,
          0.42300066093854394,
          0.38172963011715577,
          0.048081125972543326,
          0.6902879112237414,
          0.16054150214779295,
          0.16461618437011438,
          0.7611798287345373,
          0.6094943771997707,
          0.5418088737201288,
          -0.3818899308354773,
          -0.3705754568300912,
          -0.2479692176143744,
          -0.13715069432538307,
          0.6351931330472071,
          -0.055441828727398335,
          -2.28717729891188,
          0.7685925149569783,
          0.23401950162513785,
          0.6225950105927636,
          0.4769475357710773,
          -0.008552856654131524,
          0.2822684115986629,
          0.39662231320369834,
          0.18266003993032687,
          0.016960651288999706,
          -0.0805494319145339,
          -0.44125758411471816,
          0.24717664606861423,
          -0.14453938698295588,
          -0.029801183532718323,
          0.10220594497913904,
          0.5360333531864159,
          -0.20734597156397694,
          -0.34346775219438186,
          -0.8041868777125427,
          0.6434178355424036,
          -0.42194092827004814,
          -0.7318952234206422,
          -1.1857025826758072,
          -1.6493585827733637,
          -1.57054125998225,
          -0.5724330658974153,
          -1.4461217643592206,
          2.451701931922723,
          -3.273021146679833,
          -2.3161901225399184,
          0.07127583749109156,
          1.0351377018043673,
          -1.762383682676938,
          1.3395206429699158,
          -1.3406977293112465,
          1.4163357098425644,
          0.3302665723047937,
          0.30096402539383504,
          -0.8486098738806347,
          0.7423869869491284,
          0.3942736446843398,
          -0.7948010659684868
         ]
        },
        {
         "line": {
          "width": 2
         },
         "mode": "lines",
         "name": "LE57TREU Index",
         "type": "scatter",
         "x": [
          "2018-10",
          "2018-11",
          "2018-12",
          "2019-01",
          "2019-02",
          "2019-03",
          "2019-04",
          "2019-05",
          "2019-06",
          "2019-07",
          "2019-08",
          "2019-09",
          "2019-10",
          "2019-11",
          "2019-12",
          "2020-01",
          "2020-02",
          "2020-03",
          "2020-04",
          "2020-05",
          "2020-06",
          "2020-07",
          "2020-08",
          "2020-09",
          "2020-10",
          "2020-11",
          "2020-12",
          "2021-01",
          "2021-02",
          "2021-03",
          "2021-04",
          "2021-05",
          "2021-06",
          "2021-07",
          "2021-08",
          "2021-09",
          "2021-10",
          "2021-11",
          "2021-12",
          "2022-01",
          "2022-02",
          "2022-03",
          "2022-04",
          "2022-05",
          "2022-06",
          "2022-07",
          "2022-08",
          "2022-09",
          "2022-10",
          "2022-11",
          "2022-12",
          "2023-01",
          "2023-02",
          "2023-03",
          "2023-04",
          "2023-05",
          "2023-06",
          "2023-07",
          "2023-08",
          "2023-09"
         ],
         "y": [
          0.03618296122578357,
          0.230539977641131,
          0.5391662414637066,
          0.895661211058596,
          0.15037469708119033,
          1.261918515239957,
          0.2975556578728611,
          0.4060647871843681,
          1.3441395142000268,
          1.2048341447586708,
          1.0619595973361262,
          -0.5162804528818121,
          -0.6242569537359355,
          -0.4471297835743959,
          -0.3337617877546162,
          1.3368771158327686,
          -0.06432881520386236,
          -3.364612308715609,
          1.285245935574686,
          0.3707285739833033,
          0.9627775466807931,
          0.8046758571312429,
          -0.15744970773376998,
          0.5590460398013253,
          0.6246519382037796,
          0.34398263784150007,
          0.10999173211778679,
          -0.16742900373053482,
          -0.912248210501887,
          0.37242244698449944,
          -0.32728866285686165,
          -0.04318417481411485,
          0.24886112140174443,
          1.0699348312420698,
          -0.32573106850607436,
          -0.755287434898122,
          -1.1212792382970571,
          1.0425711152429962,
          -0.6611511507242596,
          -1.1889702483761977,
          -1.909819586313155,
          -2.181825429605022,
          -2.4491930545068707,
          -1.0164118191090976,
          -2.1281800582572785,
          3.7093527179108188,
          -4.555145920823467,
          -3.46179429063308,
          0.3050603414452846,
          1.8414578367556889,
          -2.865914813621051,
          2.1485317538187276,
          -1.899033704900721,
          1.9117163803413328,
          0.35745697135933785,
          0.44028898998131893,
          -0.7825091672489126,
          0.6120531383339012,
          0.3393451920429058,
          -1.5912151138072872
         ]
        },
        {
         "line": {
          "width": 2
         },
         "mode": "lines",
         "name": "I02113EU Index",
         "type": "scatter",
         "x": [
          "2018-10",
          "2018-11",
          "2018-12",
          "2019-01",
          "2019-02",
          "2019-03",
          "2019-04",
          "2019-05",
          "2019-06",
          "2019-07",
          "2019-08",
          "2019-09",
          "2019-10",
          "2019-11",
          "2019-12",
          "2020-01",
          "2020-02",
          "2020-03",
          "2020-04",
          "2020-05",
          "2020-06",
          "2020-07",
          "2020-08",
          "2020-09",
          "2020-10",
          "2020-11",
          "2020-12",
          "2021-01",
          "2021-02",
          "2021-03",
          "2021-04",
          "2021-05",
          "2021-06",
          "2021-07",
          "2021-08",
          "2021-09",
          "2021-10",
          "2021-11",
          "2021-12",
          "2022-01",
          "2022-02",
          "2022-03",
          "2022-04",
          "2022-05",
          "2022-06",
          "2022-07",
          "2022-08",
          "2022-09",
          "2022-10",
          "2022-11",
          "2022-12",
          "2023-01",
          "2023-02",
          "2023-03",
          "2023-04",
          "2023-05",
          "2023-06",
          "2023-07",
          "2023-08",
          "2023-09"
         ],
         "y": [
          -0.2545717432161143,
          0.4771988436395036,
          1.3978424746555973,
          2.179527869740472,
          -0.6458808867363164,
          3.878738904811807,
          -0.07609871483010844,
          2.3835715256560697,
          4.804488435274701,
          3.446145459725103,
          5.383906384412129,
          -0.8705655658325706,
          -2.199689179312525,
          -1.4305017481967108,
          -2.1330832163373947,
          5.160493301962532,
          1.4023321866162952,
          -5.801538276017459,
          2.277040030839239,
          0.0161397561720511,
          1.7158308751229034,
          2.242760813422562,
          -1.6903047244297587,
          2.7381535806729973,
          1.8508229201589232,
          0.3849907902568672,
          0.36318753408783877,
          -1.2861439492133475,
          -3.816619722046577,
          -0.32481831689358254,
          -1.930700843875932,
          -0.18485248954751565,
          0.9896061435397785,
          3.771550542663693,
          -1.0688334976995062,
          -2.5105803304130703,
          0.06645117621610908,
          2.4359810203020027,
          -3.022851647903124,
          -1.8936837815619834,
          -4.405368993420089,
          -3.666782173192784,
          -7.752644551376797,
          -3.881309691978352,
          -4.643347628932604,
          8.730833301870389,
          -9.172973424665587,
          -7.188378841415033,
          -0.13857855508582206,
          6.385639462703918,
          -8.855983988939286,
          4.655927574767382,
          -4.46921798764569,
          3.7533166133356444,
          -0.43944334064960344,
          0.3847533328935171,
          0.9237519340743461,
          -1.2979431768899596,
          0.04745507508081559,
          -5.754269851466098
         ]
        },
        {
         "line": {
          "width": 2
         },
         "mode": "lines",
         "name": "I00163EU Index",
         "type": "scatter",
         "x": [
          "2018-10",
          "2018-11",
          "2018-12",
          "2019-01",
          "2019-02",
          "2019-03",
          "2019-04",
          "2019-05",
          "2019-06",
          "2019-07",
          "2019-08",
          "2019-09",
          "2019-10",
          "2019-11",
          "2019-12",
          "2020-01",
          "2020-02",
          "2020-03",
          "2020-04",
          "2020-05",
          "2020-06",
          "2020-07",
          "2020-08",
          "2020-09",
          "2020-10",
          "2020-11",
          "2020-12",
          "2021-01",
          "2021-02",
          "2021-03",
          "2021-04",
          "2021-05",
          "2021-06",
          "2021-07",
          "2021-08",
          "2021-09",
          "2021-10",
          "2021-11",
          "2021-12",
          "2022-01",
          "2022-02",
          "2022-03",
          "2022-04",
          "2022-05",
          "2022-06",
          "2022-07",
          "2022-08",
          "2022-09",
          "2022-10",
          "2022-11",
          "2022-12",
          "2023-01",
          "2023-02",
          "2023-03",
          "2023-04",
          "2023-05",
          "2023-06",
          "2023-07",
          "2023-08",
          "2023-09"
         ],
         "y": [
          2.8364600754336777,
          0.49894359368674035,
          2.5060302145486935,
          1.0799564054295052,
          -1.0176926092922978,
          2.6864590218859563,
          -0.8806310197816525,
          3.0870528638040184,
          -0.44523898660744354,
          1.816887622048191,
          3.745221289132683,
          -1.1305426769389948,
          -2.35766951777725,
          0.013247865234355949,
          -0.9246714616037099,
          1.752373714628841,
          1.6392082193233293,
          -1.8963465617945596,
          2.0653941294782374,
          -2.6390138862882773,
          -0.8534189880102572,
          -3.054327132905854,
          -1.1474314703775246,
          2.541457116226842,
          1.7456488119447888,
          -1.377362195330878,
          -0.8116087335191535,
          -0.1169956352551127,
          -1.7921379395377635,
          1.0738390725134828,
          -0.8700603888210923,
          -0.8330268540909347,
          1.6147374328628672,
          1.3700952962322432,
          0.4468616927216562,
          0.33329844127667485,
          -0.8509881563504074,
          3.368360133538695,
          -1.4780334736100187,
          0.8642275843661062,
          -0.18935307985888938,
          -2.285877784844481,
          -0.19072884358006803,
          -1.3284054590345096,
          -1.7896934470282844,
          4.309171097456543,
          -1.5665728389725908,
          -2.2454777960104533,
          -2.9832652890604328,
          0.3714805659143616,
          -0.08981186644546613,
          0.8227658276690697,
          -1.289003942383371,
          0.5442254036190253,
          -2.760113526433794,
          1.2652408139516735,
          -4.2839639491745185,
          0.1291686132775638,
          -0.9155929139906593,
          0.3331382523747317
         ]
        },
        {
         "line": {
          "width": 2
         },
         "mode": "lines",
         "name": "I04276EU Index",
         "type": "scatter",
         "x": [
          "2018-10",
          "2018-11",
          "2018-12",
          "2019-01",
          "2019-02",
          "2019-03",
          "2019-04",
          "2019-05",
          "2019-06",
          "2019-07",
          "2019-08",
          "2019-09",
          "2019-10",
          "2019-11",
          "2019-12",
          "2020-01",
          "2020-02",
          "2020-03",
          "2020-04",
          "2020-05",
          "2020-06",
          "2020-07",
          "2020-08",
          "2020-09",
          "2020-10",
          "2020-11",
          "2020-12",
          "2021-01",
          "2021-02",
          "2021-03",
          "2021-04",
          "2021-05",
          "2021-06",
          "2021-07",
          "2021-08",
          "2021-09",
          "2021-10",
          "2021-11",
          "2021-12",
          "2022-01",
          "2022-02",
          "2022-03",
          "2022-04",
          "2022-05",
          "2022-06",
          "2022-07",
          "2022-08",
          "2022-09",
          "2022-10",
          "2022-11",
          "2022-12",
          "2023-01",
          "2023-02",
          "2023-03",
          "2023-04",
          "2023-05",
          "2023-06",
          "2023-07",
          "2023-08",
          "2023-09"
         ],
         "y": [
          1.0064227182558616,
          0.123570318252475,
          0.6163481968557649,
          1.7736365949659882,
          1.4102216545936797,
          3.488309387804267,
          0.8832741178968151,
          1.6365614763702574,
          -0.11057978849835504,
          3.1760168983190784,
          4.205937154811257,
          0.4064975532261039,
          -1.852485537600046,
          1.3443351454609953,
          -1.170142982036626,
          3.2446555580200487,
          1.6205074314739498,
          -7.3000404680640285,
          2.3660911228666537,
          2.017227349030226,
          0.6215656578086426,
          -1.8916378265504297,
          -1.425268477409669,
          1.4836999675930107,
          0.7654108324742559,
          -0.8686036892539439,
          -1.5602840840857723,
          -0.04671710222324821,
          -1.8178040533444517,
          2.236996897819221,
          -1.8224672303327805,
          -0.8995774002347634,
          4.248335303501083,
          0.6236880656395716,
          1.199045949821298,
          0.5900650989881573,
          0.16742221680299263,
          2.7270999809254404,
          -0.4306478356252197,
          -1.5901691806121443,
          -4.810844555811922,
          -2.6361904099310274,
          0.7418042408064984,
          -1.0285427702095618,
          -0.3338947907154388,
          4.884551789415004,
          0.10591161959454531,
          -2.7843989095852173,
          -2.611494573249251,
          1.4357421785162972,
          -3.0936317612576647,
          0.809201532895587,
          0.3475959484233737,
          -0.42987150309337085,
          -0.4764566034177298,
          2.6366573468534327,
          -2.0334485810037384,
          -0.6818136278210707,
          0.4194232705307055,
          -0.05937749706246276
         ]
        },
        {
         "line": {
          "width": 2
         },
         "mode": "lines",
         "name": "I00039EU Index",
         "type": "scatter",
         "x": [
          "2018-10",
          "2018-11",
          "2018-12",
          "2019-01",
          "2019-02",
          "2019-03",
          "2019-04",
          "2019-05",
          "2019-06",
          "2019-07",
          "2019-08",
          "2019-09",
          "2019-10",
          "2019-11",
          "2019-12",
          "2020-01",
          "2020-02",
          "2020-03",
          "2020-04",
          "2020-05",
          "2020-06",
          "2020-07",
          "2020-08",
          "2020-09",
          "2020-10",
          "2020-11",
          "2020-12",
          "2021-01",
          "2021-02",
          "2021-03",
          "2021-04",
          "2021-05",
          "2021-06",
          "2021-07",
          "2021-08",
          "2021-09",
          "2021-10",
          "2021-11",
          "2021-12",
          "2022-01",
          "2022-02",
          "2022-03",
          "2022-04",
          "2022-05",
          "2022-06",
          "2022-07",
          "2022-08",
          "2022-09",
          "2022-10",
          "2022-11",
          "2022-12",
          "2023-01",
          "2023-02",
          "2023-03",
          "2023-04",
          "2023-05",
          "2023-06",
          "2023-07",
          "2023-08",
          "2023-09"
         ],
         "y": [
          0.6445199769127274,
          -0.8840611181632263,
          -1.696489503234233,
          3.9982781268325995,
          2.1674982618932415,
          1.8809831656430687,
          1.037347408141831,
          -0.4750826487244342,
          0.9641672928177636,
          2.7194247730534027,
          -0.4694981507245677,
          1.4924107229183914,
          -1.4925176045544108,
          1.2636721637465431,
          0.7720816836588984,
          1.4195290855866682,
          -0.9596101829959514,
          -13.451661376013291,
          4.554931033187559,
          3.491960195939914,
          1.293125805460571,
          -0.6975310587141625,
          0.4935479782779417,
          0.08137048179692741,
          0.7431369034273105,
          2.234614454086281,
          0.17758275691535097,
          0.5462911146991489,
          0.22662060247775617,
          2.3201219413897967,
          -0.5097469337520089,
          -0.6184409995735329,
          3.3010493906080685,
          0.11496395104333423,
          1.0926344784382591,
          0.7326472341221857,
          -0.38907804630060605,
          0.7710455147016404,
          0.8116242308730426,
          -1.1300177398061995,
          -2.5856857331648664,
          0.08180254155876199,
          0.6268226974453173,
          -1.6133051201550508,
          -5.244222060304371,
          6.676496648825503,
          -0.12945034569933345,
          -2.577993181125593,
          1.2456743902914402,
          0.7975744377818339,
          -2.888425893192448,
          2.3743488477730557,
          0.47067620728078463,
          -1.4893818091961442,
          -0.9623250337208566,
          2.362618724559029,
          0.2112755142430478,
          0.8888630056403946,
          1.0679344871985963,
          0.88345156168812
         ]
        },
        {
         "line": {
          "width": 2
         },
         "mode": "lines",
         "name": "MXEUG Index",
         "type": "scatter",
         "x": [
          "2018-10",
          "2018-11",
          "2018-12",
          "2019-01",
          "2019-02",
          "2019-03",
          "2019-04",
          "2019-05",
          "2019-06",
          "2019-07",
          "2019-08",
          "2019-09",
          "2019-10",
          "2019-11",
          "2019-12",
          "2020-01",
          "2020-02",
          "2020-03",
          "2020-04",
          "2020-05",
          "2020-06",
          "2020-07",
          "2020-08",
          "2020-09",
          "2020-10",
          "2020-11",
          "2020-12",
          "2021-01",
          "2021-02",
          "2021-03",
          "2021-04",
          "2021-05",
          "2021-06",
          "2021-07",
          "2021-08",
          "2021-09",
          "2021-10",
          "2021-11",
          "2021-12",
          "2022-01",
          "2022-02",
          "2022-03",
          "2022-04",
          "2022-05",
          "2022-06",
          "2022-07",
          "2022-08",
          "2022-09",
          "2022-10",
          "2022-11",
          "2022-12",
          "2023-01",
          "2023-02",
          "2023-03",
          "2023-04",
          "2023-05",
          "2023-06",
          "2023-07",
          "2023-08",
          "2023-09"
         ],
         "y": [
          -5.695119446916275,
          -0.6387457356463844,
          -5.909854627803323,
          5.90838509316769,
          4.105270874569311,
          1.4998943736356463,
          3.67698071319551,
          -5.600910064239828,
          4.919543489047995,
          0.19593270724951317,
          -0.7147673634524621,
          3.198859005704957,
          0.9279368213228167,
          2.5691184141888312,
          1.5956770502224993,
          -0.8510105750578867,
          -7.5986115493846595,
          -14.09739771873506,
          5.955315258010652,
          3.6695182350292788,
          3.6482084690553584,
          -0.8240798938473404,
          3.0209140201394424,
          -0.9979494190020533,
          -5.2264567798950505,
          13.950608290230914,
          2.1033115969824934,
          -1.1395654624006157,
          2.1343973652542925,
          6.287982140642456,
          1.639439906651119,
          2.1410940818552326,
          1.8938968191525296,
          2.0682808449616674,
          2.134442883389176,
          -3.80403153272314,
          4.663953360466411,
          -2.506568575932744,
          5.303724465046078,
          -4.8369759942673,
          -4.13618760757315,
          0.4376367614879584,
          -1.8043684710351338,
          -1.9057913300716822,
          -8.252624253320196,
          7.951959544879905,
          -5.158683686614363,
          -6.297462493054262,
          6.5164393490149575,
          6.98997896820488,
          -3.4401017576318305,
          7.376803784204555,
          1.455417386940261,
          0.47817961965483935,
          1.5644658388490607,
          -3.0430333387192254,
          2.544161759804453,
          1.7984832069338985,
          -2.4957428693060835,
          -2.5541668940675555
         ]
        },
        {
         "line": {
          "width": 2
         },
         "mode": "lines",
         "name": "MXGB Index",
         "type": "scatter",
         "x": [
          "2018-10",
          "2018-11",
          "2018-12",
          "2019-01",
          "2019-02",
          "2019-03",
          "2019-04",
          "2019-05",
          "2019-06",
          "2019-07",
          "2019-08",
          "2019-09",
          "2019-10",
          "2019-11",
          "2019-12",
          "2020-01",
          "2020-02",
          "2020-03",
          "2020-04",
          "2020-05",
          "2020-06",
          "2020-07",
          "2020-08",
          "2020-09",
          "2020-10",
          "2020-11",
          "2020-12",
          "2021-01",
          "2021-02",
          "2021-03",
          "2021-04",
          "2021-05",
          "2021-06",
          "2021-07",
          "2021-08",
          "2021-09",
          "2021-10",
          "2021-11",
          "2021-12",
          "2022-01",
          "2022-02",
          "2022-03",
          "2022-04",
          "2022-05",
          "2022-06",
          "2022-07",
          "2022-08",
          "2022-09",
          "2022-10",
          "2022-11",
          "2022-12",
          "2023-01",
          "2023-02",
          "2023-03",
          "2023-04",
          "2023-05",
          "2023-06",
          "2023-07",
          "2023-08",
          "2023-09"
         ],
         "y": [
          -4.653734374429364,
          -2.0731364071804315,
          -4.948087348677587,
          6.570982585262231,
          3.1944619075770175,
          1.9554397863706274,
          2.183703189575703,
          -5.998104757877876,
          2.452294372068775,
          0.18008668982887333,
          -4.310184731250977,
          4.626933152696444,
          0.49898296004560194,
          2.4479680827228956,
          3.1846187068345744,
          -2.5783199185533068,
          -12.161403820342997,
          -16.063085213658713,
          5.399526688114076,
          -0.8993786503415424,
          0.5684534505906447,
          -3.8906543472281285,
          1.638363162367762,
          -3.3172824647956123,
          -4.403402198097373,
          13.331592064824239,
          2.7736079152710813,
          0.43646582328420447,
          3.541887826489809,
          5.2399455329869005,
          1.5473796356574088,
          2.0097751883842996,
          0.4830098737376165,
          0.7581836136952846,
          0.22955653819425326,
          -0.44631053168507906,
          4.134829153721098,
          -3.266137093741983,
          6.088167027814562,
          2.5710909289807127,
          0.12456082483047748,
          0.5128121910772387,
          1.2123891770855932,
          -0.37789837589102815,
          -6.550941208269712,
          6.229641037790756,
          -5.233080527550427,
          -6.791269774280407,
          4.792259496594187,
          6.50804547434265,
          -3.9119720014032855,
          4.471407996550347,
          2.0685981075923454,
          -3.739339354216309,
          3.6788585162529364,
          -3.703255239532499,
          1.0107902996523421,
          2.390137787156865,
          -3.4905115314216473,
          1.5658803597817794
         ]
        },
        {
         "line": {
          "width": 2
         },
         "mode": "lines",
         "name": "MXUS Index",
         "type": "scatter",
         "x": [
          "2018-10",
          "2018-11",
          "2018-12",
          "2019-01",
          "2019-02",
          "2019-03",
          "2019-04",
          "2019-05",
          "2019-06",
          "2019-07",
          "2019-08",
          "2019-09",
          "2019-10",
          "2019-11",
          "2019-12",
          "2020-01",
          "2020-02",
          "2020-03",
          "2020-04",
          "2020-05",
          "2020-06",
          "2020-07",
          "2020-08",
          "2020-09",
          "2020-10",
          "2020-11",
          "2020-12",
          "2021-01",
          "2021-02",
          "2021-03",
          "2021-04",
          "2021-05",
          "2021-06",
          "2021-07",
          "2021-08",
          "2021-09",
          "2021-10",
          "2021-11",
          "2021-12",
          "2022-01",
          "2022-02",
          "2022-03",
          "2022-04",
          "2022-05",
          "2022-06",
          "2022-07",
          "2022-08",
          "2022-09",
          "2022-10",
          "2022-11",
          "2022-12",
          "2023-01",
          "2023-02",
          "2023-03",
          "2023-04",
          "2023-05",
          "2023-06",
          "2023-07",
          "2023-08",
          "2023-09"
         ],
         "y": [
          -4.514647235090951,
          1.6202958713016136,
          -10.245035286900261,
          8.099682920542284,
          3.7330992984910383,
          3.156153365086589,
          3.9296427673607637,
          -6.079189182628452,
          5.01503173305351,
          3.5294312475850242,
          -0.7077385928205615,
          2.4176863756131706,
          -0.16775720143513695,
          4.7605431561123845,
          0.8228780876668562,
          1.3927487295092522,
          -7.644662672152991,
          -12.605798600985151,
          13.37317925685111,
          3.4501850805353174,
          0.8167959906545619,
          0.8949069353041406,
          5.958648592643789,
          -2.029530913670463,
          -2.0689509680085427,
          8.516502081182885,
          1.674846041837541,
          -0.2669440962287606,
          2.9100334617690793,
          6.540640344598225,
          2.924874825635726,
          -1.0938325586365316,
          5.72126701325697,
          2.1803644029418034,
          3.26867264423778,
          -2.883896206777914,
          7.181542656933582,
          0.8519908695566292,
          3.1478219431533283,
          -4.338176328348364,
          -2.947580263677463,
          4.527464588337926,
          -4.548933367491969,
          -2.090402186495377,
          -6.241075979774491,
          12.277268386603811,
          -2.715954701384371,
          -6.9584813579313565,
          6.772748247080185,
          0.8672957208056165,
          -9.489736884461363,
          4.966849287433028,
          -0.17590797530883107,
          0.8852427389394624,
          -0.31062743529216563,
          4.180400224746261,
          3.80263963192784,
          2.5108701887859297,
          -0.33901338375992296,
          -2.4419016182545272
         ]
        },
        {
         "line": {
          "width": 2
         },
         "mode": "lines",
         "name": "MSERP Index",
         "type": "scatter",
         "x": [
          "2018-10",
          "2018-11",
          "2018-12",
          "2019-01",
          "2019-02",
          "2019-03",
          "2019-04",
          "2019-05",
          "2019-06",
          "2019-07",
          "2019-08",
          "2019-09",
          "2019-10",
          "2019-11",
          "2019-12",
          "2020-01",
          "2020-02",
          "2020-03",
          "2020-04",
          "2020-05",
          "2020-06",
          "2020-07",
          "2020-08",
          "2020-09",
          "2020-10",
          "2020-11",
          "2020-12",
          "2021-01",
          "2021-02",
          "2021-03",
          "2021-04",
          "2021-05",
          "2021-06",
          "2021-07",
          "2021-08",
          "2021-09",
          "2021-10",
          "2021-11",
          "2021-12",
          "2022-01",
          "2022-02",
          "2022-03",
          "2022-04",
          "2022-05",
          "2022-06",
          "2022-07",
          "2022-08",
          "2022-09",
          "2022-10",
          "2022-11",
          "2022-12",
          "2023-01",
          "2023-02",
          "2023-03",
          "2023-04",
          "2023-05",
          "2023-06",
          "2023-07",
          "2023-08",
          "2023-09"
         ],
         "y": [
          -6.283218261237156,
          1.089146424340104,
          -6.1765265813145565,
          5.985187627610888,
          1.8283526279577522,
          1.3213788403123372,
          1.6601913598144336,
          -3.3271919367074854,
          2.2474628274722575,
          2.0947665460589127,
          -1.8364336221660893,
          3.4404330051246657,
          1.8480892872053234,
          1.4702265460607267,
          0.2752417117772188,
          -0.192838649377447,
          -7.993240297728277,
          -12.13126261296833,
          7.457261543377536,
          2.2271369983521083,
          1.196875397695929,
          -5.311758928785304,
          5.622383283370658,
          0.09819888867599325,
          -0.6448448304740007,
          10.088263272604681,
          2.056330325403355,
          0.23900112534163132,
          1.9266957488666359,
          3.646281338508328,
          -2.071736534218571,
          -0.0738949348381035,
          2.235552682611508,
          -1.3394166860565049,
          2.5049987182773625,
          1.8040773047375058,
          -1.132930142525168,
          -1.179206607134864,
          1.2038377986965942,
          -3.885062954019225,
          -0.2791577706667159,
          2.2815048289519524,
          -2.750126710593015,
          -0.9115356953000364,
          -5.916633793556869,
          7.6617321496455615,
          -1.1335490001609716,
          -8.955976428323819,
          1.1624150542844935,
          6.773455899544367,
          -3.320355267866215,
          5.237484946581072,
          -2.6666246725773224,
          -0.635304142420301,
          -1.3585171917826933,
          2.3351784397662723,
          1.6393707053219186,
          2.376808527521357,
          -2.3438468852052474,
          -0.6624619031493251
         ]
        },
        {
         "line": {
          "width": 2
         },
         "mode": "lines",
         "name": "MXEF Index",
         "type": "scatter",
         "x": [
          "2018-10",
          "2018-11",
          "2018-12",
          "2019-01",
          "2019-02",
          "2019-03",
          "2019-04",
          "2019-05",
          "2019-06",
          "2019-07",
          "2019-08",
          "2019-09",
          "2019-10",
          "2019-11",
          "2019-12",
          "2020-01",
          "2020-02",
          "2020-03",
          "2020-04",
          "2020-05",
          "2020-06",
          "2020-07",
          "2020-08",
          "2020-09",
          "2020-10",
          "2020-11",
          "2020-12",
          "2021-01",
          "2021-02",
          "2021-03",
          "2021-04",
          "2021-05",
          "2021-06",
          "2021-07",
          "2021-08",
          "2021-09",
          "2021-10",
          "2021-11",
          "2021-12",
          "2022-01",
          "2022-02",
          "2022-03",
          "2022-04",
          "2022-05",
          "2022-06",
          "2022-07",
          "2022-08",
          "2022-09",
          "2022-10",
          "2022-11",
          "2022-12",
          "2023-01",
          "2023-02",
          "2023-03",
          "2023-04",
          "2023-05",
          "2023-06",
          "2023-07",
          "2023-08",
          "2023-09"
         ],
         "y": [
          -6.29282657213075,
          3.9754848352364647,
          -4.0709752383399795,
          8.732263860044242,
          0.6955475302317549,
          2.1274177386073845,
          2.031689369585399,
          -7.072081333456481,
          3.864122178146512,
          0.34883351427479337,
          -3.870113136117692,
          2.485516277953681,
          1.8250028398561824,
          0.9921094294440547,
          5.141248719087943,
          -3.4380357879368995,
          -4.6436996237764205,
          -15.37704832516351,
          9.337393549895157,
          -0.8735147968080947,
          5.57968445998378,
          3.3842606363017724,
          0.7850488599334238,
          0.08975520275260607,
          2.6490853783586177,
          6.3945253294415805,
          4.777461468207411,
          3.755546504025431,
          1.162636849604004,
          1.0556536676577188,
          0.011353476292530473,
          0.4433270155554281,
          3.08077613282427,
          -7.122933867912917,
          2.866927625919069,
          -2.2935553269827103,
          1.2101553492886108,
          -2.2055509681516594,
          0.9462655946533172,
          -0.4700381989501734,
          -2.934743771214987,
          -1.4385784654634248,
          -0.9827860067163852,
          -1.570366871503004,
          -4.939321556667298,
          2.097264167988633,
          1.456283329085184,
          -9.527273550329706,
          -4.104213177052074,
          9.877760685824665,
          -5.272759119094383,
          6.325850431492386,
          -4.260821934846093,
          0.2403136206785561,
          -2.785754411851238,
          1.7288641633083301,
          0.5813177383310553,
          4.949273275988131,
          -4.908919565101366,
          -0.41132738809497305
         ]
        },
        {
         "line": {
          "color": "black",
          "dash": "dash",
          "width": 3
         },
         "mode": "lines",
         "name": "Return",
         "type": "scatter",
         "x": [
          "2018-10",
          "2018-11",
          "2018-12",
          "2019-01",
          "2019-02",
          "2019-03",
          "2019-04",
          "2019-05",
          "2019-06",
          "2019-07",
          "2019-08",
          "2019-09",
          "2019-10",
          "2019-11",
          "2019-12",
          "2020-01",
          "2020-02",
          "2020-03",
          "2020-04",
          "2020-05",
          "2020-06",
          "2020-07",
          "2020-08",
          "2020-09",
          "2020-10",
          "2020-11",
          "2020-12",
          "2021-01",
          "2021-02",
          "2021-03",
          "2021-04",
          "2021-05",
          "2021-06",
          "2021-07",
          "2021-08",
          "2021-09",
          "2021-10",
          "2021-11",
          "2021-12",
          "2022-01",
          "2022-02",
          "2022-03",
          "2022-04",
          "2022-05",
          "2022-06",
          "2022-07",
          "2022-08",
          "2022-09",
          "2022-10",
          "2022-11",
          "2022-12",
          "2023-01",
          "2023-02",
          "2023-03",
          "2023-04",
          "2023-05",
          "2023-06",
          "2023-07",
          "2023-08",
          "2023-09"
         ],
         "y": [
          -2.95858,
          0.271003,
          -4.324324,
          4.166667,
          2.440678,
          1.191264,
          1.76586,
          -2.699229,
          2.179657,
          2.06852,
          -0.063331,
          1.077313,
          -0.501567,
          2.205419,
          -0.061652,
          1.9124,
          -4.176755,
          -3.979785,
          7.631579,
          0.550122,
          0.790274,
          1.206273,
          3.158522,
          -0.808781,
          -1.980198,
          4.93167,
          1.019253,
          0.7287,
          0.612131,
          2.488938,
          0.971398,
          0.106895,
          2.242392,
          1.51436,
          1.800412,
          -1.566448,
          2.310062,
          1.25439,
          1.635282,
          -3.949293,
          -1.522843,
          1.958763,
          -1.263903,
          -2.96979,
          -3.693931,
          6.246575,
          -1.9082,
          -5.520505,
          1.057318,
          0.550661,
          -3.723987,
          2.787258,
          -0.940786,
          0.27933,
          0.835655,
          0.276243,
          -0.550964,
          0.775623,
          -1.099505,
          -3.001668
         ]
        }
       ],
       "layout": {
        "autosize": false,
        "height": 600,
        "legend": {
         "bgcolor": "rgba(255, 255, 255, 0.7)",
         "orientation": "h",
         "traceorder": "normal",
         "x": 0,
         "xanchor": "left",
         "y": -0.15,
         "yanchor": "top"
        },
        "showlegend": true,
        "template": {
         "data": {
          "bar": [
           {
            "error_x": {
             "color": "#2a3f5f"
            },
            "error_y": {
             "color": "#2a3f5f"
            },
            "marker": {
             "line": {
              "color": "#E5ECF6",
              "width": 0.5
             },
             "pattern": {
              "fillmode": "overlay",
              "size": 10,
              "solidity": 0.2
             }
            },
            "type": "bar"
           }
          ],
          "barpolar": [
           {
            "marker": {
             "line": {
              "color": "#E5ECF6",
              "width": 0.5
             },
             "pattern": {
              "fillmode": "overlay",
              "size": 10,
              "solidity": 0.2
             }
            },
            "type": "barpolar"
           }
          ],
          "carpet": [
           {
            "aaxis": {
             "endlinecolor": "#2a3f5f",
             "gridcolor": "white",
             "linecolor": "white",
             "minorgridcolor": "white",
             "startlinecolor": "#2a3f5f"
            },
            "baxis": {
             "endlinecolor": "#2a3f5f",
             "gridcolor": "white",
             "linecolor": "white",
             "minorgridcolor": "white",
             "startlinecolor": "#2a3f5f"
            },
            "type": "carpet"
           }
          ],
          "choropleth": [
           {
            "colorbar": {
             "outlinewidth": 0,
             "ticks": ""
            },
            "type": "choropleth"
           }
          ],
          "contour": [
           {
            "colorbar": {
             "outlinewidth": 0,
             "ticks": ""
            },
            "colorscale": [
             [
              0,
              "#0d0887"
             ],
             [
              0.1111111111111111,
              "#46039f"
             ],
             [
              0.2222222222222222,
              "#7201a8"
             ],
             [
              0.3333333333333333,
              "#9c179e"
             ],
             [
              0.4444444444444444,
              "#bd3786"
             ],
             [
              0.5555555555555556,
              "#d8576b"
             ],
             [
              0.6666666666666666,
              "#ed7953"
             ],
             [
              0.7777777777777778,
              "#fb9f3a"
             ],
             [
              0.8888888888888888,
              "#fdca26"
             ],
             [
              1,
              "#f0f921"
             ]
            ],
            "type": "contour"
           }
          ],
          "contourcarpet": [
           {
            "colorbar": {
             "outlinewidth": 0,
             "ticks": ""
            },
            "type": "contourcarpet"
           }
          ],
          "heatmap": [
           {
            "colorbar": {
             "outlinewidth": 0,
             "ticks": ""
            },
            "colorscale": [
             [
              0,
              "#0d0887"
             ],
             [
              0.1111111111111111,
              "#46039f"
             ],
             [
              0.2222222222222222,
              "#7201a8"
             ],
             [
              0.3333333333333333,
              "#9c179e"
             ],
             [
              0.4444444444444444,
              "#bd3786"
             ],
             [
              0.5555555555555556,
              "#d8576b"
             ],
             [
              0.6666666666666666,
              "#ed7953"
             ],
             [
              0.7777777777777778,
              "#fb9f3a"
             ],
             [
              0.8888888888888888,
              "#fdca26"
             ],
             [
              1,
              "#f0f921"
             ]
            ],
            "type": "heatmap"
           }
          ],
          "heatmapgl": [
           {
            "colorbar": {
             "outlinewidth": 0,
             "ticks": ""
            },
            "colorscale": [
             [
              0,
              "#0d0887"
             ],
             [
              0.1111111111111111,
              "#46039f"
             ],
             [
              0.2222222222222222,
              "#7201a8"
             ],
             [
              0.3333333333333333,
              "#9c179e"
             ],
             [
              0.4444444444444444,
              "#bd3786"
             ],
             [
              0.5555555555555556,
              "#d8576b"
             ],
             [
              0.6666666666666666,
              "#ed7953"
             ],
             [
              0.7777777777777778,
              "#fb9f3a"
             ],
             [
              0.8888888888888888,
              "#fdca26"
             ],
             [
              1,
              "#f0f921"
             ]
            ],
            "type": "heatmapgl"
           }
          ],
          "histogram": [
           {
            "marker": {
             "pattern": {
              "fillmode": "overlay",
              "size": 10,
              "solidity": 0.2
             }
            },
            "type": "histogram"
           }
          ],
          "histogram2d": [
           {
            "colorbar": {
             "outlinewidth": 0,
             "ticks": ""
            },
            "colorscale": [
             [
              0,
              "#0d0887"
             ],
             [
              0.1111111111111111,
              "#46039f"
             ],
             [
              0.2222222222222222,
              "#7201a8"
             ],
             [
              0.3333333333333333,
              "#9c179e"
             ],
             [
              0.4444444444444444,
              "#bd3786"
             ],
             [
              0.5555555555555556,
              "#d8576b"
             ],
             [
              0.6666666666666666,
              "#ed7953"
             ],
             [
              0.7777777777777778,
              "#fb9f3a"
             ],
             [
              0.8888888888888888,
              "#fdca26"
             ],
             [
              1,
              "#f0f921"
             ]
            ],
            "type": "histogram2d"
           }
          ],
          "histogram2dcontour": [
           {
            "colorbar": {
             "outlinewidth": 0,
             "ticks": ""
            },
            "colorscale": [
             [
              0,
              "#0d0887"
             ],
             [
              0.1111111111111111,
              "#46039f"
             ],
             [
              0.2222222222222222,
              "#7201a8"
             ],
             [
              0.3333333333333333,
              "#9c179e"
             ],
             [
              0.4444444444444444,
              "#bd3786"
             ],
             [
              0.5555555555555556,
              "#d8576b"
             ],
             [
              0.6666666666666666,
              "#ed7953"
             ],
             [
              0.7777777777777778,
              "#fb9f3a"
             ],
             [
              0.8888888888888888,
              "#fdca26"
             ],
             [
              1,
              "#f0f921"
             ]
            ],
            "type": "histogram2dcontour"
           }
          ],
          "mesh3d": [
           {
            "colorbar": {
             "outlinewidth": 0,
             "ticks": ""
            },
            "type": "mesh3d"
           }
          ],
          "parcoords": [
           {
            "line": {
             "colorbar": {
              "outlinewidth": 0,
              "ticks": ""
             }
            },
            "type": "parcoords"
           }
          ],
          "pie": [
           {
            "automargin": true,
            "type": "pie"
           }
          ],
          "scatter": [
           {
            "fillpattern": {
             "fillmode": "overlay",
             "size": 10,
             "solidity": 0.2
            },
            "type": "scatter"
           }
          ],
          "scatter3d": [
           {
            "line": {
             "colorbar": {
              "outlinewidth": 0,
              "ticks": ""
             }
            },
            "marker": {
             "colorbar": {
              "outlinewidth": 0,
              "ticks": ""
             }
            },
            "type": "scatter3d"
           }
          ],
          "scattercarpet": [
           {
            "marker": {
             "colorbar": {
              "outlinewidth": 0,
              "ticks": ""
             }
            },
            "type": "scattercarpet"
           }
          ],
          "scattergeo": [
           {
            "marker": {
             "colorbar": {
              "outlinewidth": 0,
              "ticks": ""
             }
            },
            "type": "scattergeo"
           }
          ],
          "scattergl": [
           {
            "marker": {
             "colorbar": {
              "outlinewidth": 0,
              "ticks": ""
             }
            },
            "type": "scattergl"
           }
          ],
          "scattermapbox": [
           {
            "marker": {
             "colorbar": {
              "outlinewidth": 0,
              "ticks": ""
             }
            },
            "type": "scattermapbox"
           }
          ],
          "scatterpolar": [
           {
            "marker": {
             "colorbar": {
              "outlinewidth": 0,
              "ticks": ""
             }
            },
            "type": "scatterpolar"
           }
          ],
          "scatterpolargl": [
           {
            "marker": {
             "colorbar": {
              "outlinewidth": 0,
              "ticks": ""
             }
            },
            "type": "scatterpolargl"
           }
          ],
          "scatterternary": [
           {
            "marker": {
             "colorbar": {
              "outlinewidth": 0,
              "ticks": ""
             }
            },
            "type": "scatterternary"
           }
          ],
          "surface": [
           {
            "colorbar": {
             "outlinewidth": 0,
             "ticks": ""
            },
            "colorscale": [
             [
              0,
              "#0d0887"
             ],
             [
              0.1111111111111111,
              "#46039f"
             ],
             [
              0.2222222222222222,
              "#7201a8"
             ],
             [
              0.3333333333333333,
              "#9c179e"
             ],
             [
              0.4444444444444444,
              "#bd3786"
             ],
             [
              0.5555555555555556,
              "#d8576b"
             ],
             [
              0.6666666666666666,
              "#ed7953"
             ],
             [
              0.7777777777777778,
              "#fb9f3a"
             ],
             [
              0.8888888888888888,
              "#fdca26"
             ],
             [
              1,
              "#f0f921"
             ]
            ],
            "type": "surface"
           }
          ],
          "table": [
           {
            "cells": {
             "fill": {
              "color": "#EBF0F8"
             },
             "line": {
              "color": "white"
             }
            },
            "header": {
             "fill": {
              "color": "#C8D4E3"
             },
             "line": {
              "color": "white"
             }
            },
            "type": "table"
           }
          ]
         },
         "layout": {
          "annotationdefaults": {
           "arrowcolor": "#2a3f5f",
           "arrowhead": 0,
           "arrowwidth": 1
          },
          "autotypenumbers": "strict",
          "coloraxis": {
           "colorbar": {
            "outlinewidth": 0,
            "ticks": ""
           }
          },
          "colorscale": {
           "diverging": [
            [
             0,
             "#8e0152"
            ],
            [
             0.1,
             "#c51b7d"
            ],
            [
             0.2,
             "#de77ae"
            ],
            [
             0.3,
             "#f1b6da"
            ],
            [
             0.4,
             "#fde0ef"
            ],
            [
             0.5,
             "#f7f7f7"
            ],
            [
             0.6,
             "#e6f5d0"
            ],
            [
             0.7,
             "#b8e186"
            ],
            [
             0.8,
             "#7fbc41"
            ],
            [
             0.9,
             "#4d9221"
            ],
            [
             1,
             "#276419"
            ]
           ],
           "sequential": [
            [
             0,
             "#0d0887"
            ],
            [
             0.1111111111111111,
             "#46039f"
            ],
            [
             0.2222222222222222,
             "#7201a8"
            ],
            [
             0.3333333333333333,
             "#9c179e"
            ],
            [
             0.4444444444444444,
             "#bd3786"
            ],
            [
             0.5555555555555556,
             "#d8576b"
            ],
            [
             0.6666666666666666,
             "#ed7953"
            ],
            [
             0.7777777777777778,
             "#fb9f3a"
            ],
            [
             0.8888888888888888,
             "#fdca26"
            ],
            [
             1,
             "#f0f921"
            ]
           ],
           "sequentialminus": [
            [
             0,
             "#0d0887"
            ],
            [
             0.1111111111111111,
             "#46039f"
            ],
            [
             0.2222222222222222,
             "#7201a8"
            ],
            [
             0.3333333333333333,
             "#9c179e"
            ],
            [
             0.4444444444444444,
             "#bd3786"
            ],
            [
             0.5555555555555556,
             "#d8576b"
            ],
            [
             0.6666666666666666,
             "#ed7953"
            ],
            [
             0.7777777777777778,
             "#fb9f3a"
            ],
            [
             0.8888888888888888,
             "#fdca26"
            ],
            [
             1,
             "#f0f921"
            ]
           ]
          },
          "colorway": [
           "#636efa",
           "#EF553B",
           "#00cc96",
           "#ab63fa",
           "#FFA15A",
           "#19d3f3",
           "#FF6692",
           "#B6E880",
           "#FF97FF",
           "#FECB52"
          ],
          "font": {
           "color": "#2a3f5f"
          },
          "geo": {
           "bgcolor": "white",
           "lakecolor": "white",
           "landcolor": "#E5ECF6",
           "showlakes": true,
           "showland": true,
           "subunitcolor": "white"
          },
          "hoverlabel": {
           "align": "left"
          },
          "hovermode": "closest",
          "mapbox": {
           "style": "light"
          },
          "paper_bgcolor": "white",
          "plot_bgcolor": "#E5ECF6",
          "polar": {
           "angularaxis": {
            "gridcolor": "white",
            "linecolor": "white",
            "ticks": ""
           },
           "bgcolor": "#E5ECF6",
           "radialaxis": {
            "gridcolor": "white",
            "linecolor": "white",
            "ticks": ""
           }
          },
          "scene": {
           "xaxis": {
            "backgroundcolor": "#E5ECF6",
            "gridcolor": "white",
            "gridwidth": 2,
            "linecolor": "white",
            "showbackground": true,
            "ticks": "",
            "zerolinecolor": "white"
           },
           "yaxis": {
            "backgroundcolor": "#E5ECF6",
            "gridcolor": "white",
            "gridwidth": 2,
            "linecolor": "white",
            "showbackground": true,
            "ticks": "",
            "zerolinecolor": "white"
           },
           "zaxis": {
            "backgroundcolor": "#E5ECF6",
            "gridcolor": "white",
            "gridwidth": 2,
            "linecolor": "white",
            "showbackground": true,
            "ticks": "",
            "zerolinecolor": "white"
           }
          },
          "shapedefaults": {
           "line": {
            "color": "#2a3f5f"
           }
          },
          "ternary": {
           "aaxis": {
            "gridcolor": "white",
            "linecolor": "white",
            "ticks": ""
           },
           "baxis": {
            "gridcolor": "white",
            "linecolor": "white",
            "ticks": ""
           },
           "bgcolor": "#E5ECF6",
           "caxis": {
            "gridcolor": "white",
            "linecolor": "white",
            "ticks": ""
           }
          },
          "title": {
           "x": 0.05
          },
          "xaxis": {
           "automargin": true,
           "gridcolor": "white",
           "linecolor": "white",
           "ticks": "",
           "title": {
            "standoff": 15
           },
           "zerolinecolor": "white",
           "zerolinewidth": 2
          },
          "yaxis": {
           "automargin": true,
           "gridcolor": "white",
           "linecolor": "white",
           "ticks": "",
           "title": {
            "standoff": 15
           },
           "zerolinecolor": "white",
           "zerolinewidth": 2
          }
         }
        },
        "title": {
         "text": "Geographic Indices Over Time",
         "x": 0.5
        },
        "width": 1000,
        "xaxis": {
         "title": {
          "text": "Months"
         }
        },
        "yaxis": {
         "title": {
          "text": "Return (%change)"
         }
        }
       }
      }
     },
     "metadata": {},
     "output_type": "display_data"
    }
   ],
   "source": [
    "\n",
    "# Create a Figure\n",
    "fig = go.Figure()\n",
    "\n",
    "# Add traces for each time series, excluding 'Return'\n",
    "for column in style_ge.columns:\n",
    "    if column != 'Return':\n",
    "        fig.add_trace(go.Scatter(x=style_ge.index.astype(str), \n",
    "                                 y=style_ge[column],\n",
    "                                 mode='lines', name=column, line=dict(width=2)))\n",
    "\n",
    "# Add 'Return' variable with a thick black dashed line\n",
    "fig.add_trace(go.Scatter(x=style_ge.index.astype(str), \n",
    "                         y=style_ge['Return'],\n",
    "                         mode='lines', name='Return', line=dict(dash='dash', width=3, color='black')))\n",
    "\n",
    "# Update layout\n",
    "fig.update_layout(\n",
    "    title='Geographic Indices Over Time',\n",
    "    xaxis=dict(title='Months'),\n",
    "    yaxis=dict(title='Return (%change)'),\n",
    "    showlegend=True,\n",
    "    legend=dict(x=0, y=-0.15, traceorder='normal', orientation='h', bgcolor='rgba(255, 255, 255, 0.7)'\n",
    "                , xanchor='left', yanchor='top'),\n",
    "    autosize=False,\n",
    "    title_x=0.5,\n",
    "    width=1000,\n",
    "    height=600\n",
    ")\n",
    "fig.write_image(\"style-ge.png\", format=\"png\", width=1000, height=600, scale=3)\n",
    "fig.show()\n",
    "\n"
   ]
  },
  {
   "cell_type": "markdown",
   "metadata": {},
   "source": [
    "It is clear that their is an overall seasonal trend in the changes. Some indices are experiencing more radical fluctuations, while some are moving inside just noarrow borders.What is most apparent, is that the selected fund follows similar movements to the MXGB, MXUS, MSERP and the MXEUG indices, which stand out with their bigger values. However, this match depends highly on the chosen period, hence, a deeper inspection is needed to find the best indices to predict the fund returns."
   ]
  },
  {
   "cell_type": "markdown",
   "metadata": {},
   "source": [
    "# **A1) Style analysis by countries/geographic areas**\n",
    "## **0. selecting indices**\n",
    "\n",
    "Since the fund consisits of 50% MSCI World Index and 50% Bloomberg Aggregate Bond Index hedged into EUR, the vaariables that predict the returns on this fund the best have to be somehow related to the components of these fund indices. The MSCI World Index is highly USA focused, leaving the UK, Canda, France, Japan and the others a smaller share. The sector weights are more distributed, the most dominant being the tech, financial and healthcare sectors. In line with this, the Bloomberg Aggregate Bond Index is also moslty relying oon US Treasury Bills and Notes, followed by the Japanese. After careful considerations, the following explanatory indices got selected: \n",
    "-  **I00039EU Index** (Global High Yield):  High-yield bonds are often influenced by economic conditions. As the global economy goes through cycles, the performance of high-yield securities may reflect changes in economic expectations. This sensitivity can provide insights into broader economic trends that might impact the MSCI World Index.\n",
    "-  **I31914EU Index** (Bloomberg Cash Index): Changes in the Bloomberg Cash Index can be indicative of broader market conditions and risk sentiment. During periods of uncertainty or risk aversion, investors may seek safety in cash or cash equivalents. Monitoring the Bloomberg Cash Index provides insights into shifts in market sentiment, which can impact both equity (MSCI World) and fixed-income (Bloomberg Aggregate Bond) components of the fund.\n",
    "-  **I00001EU Index** (U.S. Aggregate): The U.S. Aggregate Bond Index represents a broad range of U.S. investment-grade fixed-income securities, including government, corporate, and mortgage-backed bonds. Its performance reflects the overall health of the U.S. bond market, thus directly impacting half of the fund's composition.\n",
    "-  **'LE57TREU Index** (Euro-Aggregate: 5-7 Year): This duration closely aligns with the fixed-income component of the fund, which includes the Bloomberg Aggregate Bond Index. Duration matching helps manage interest rate risk, providing a more accurate prediction of bond portfolio returns\n",
    "-  **I00163EU Index** (Asian-Pacific Aggregate): The inclusion of the Asian-Pacific Aggregate provides geographical diversification. As Asian-Pacific economies may have different economic cycles than those in the MSCI World Index and the Eurozone, the index can offer exposure to unique market dynamics.\n",
    "-  **I04276EU Index** (EM USD Aggregate: Investment Grade): The inclusion of emerging market (EM) bonds enhances the diversification of the fund. EM bonds may have different risk-return characteristics compared to developed market bonds, providing additional sources of returns.\n",
    "-  **MXEUG Index** (MSCI Europe Excluding United Kingdom Index):  Given that the fund includes a significant portion invested in the MSCI World Index, which is a global equity index, the European component can offer insights into how European markets, industries, and companies may impact the overall fund performance.\n",
    "-  **MXUS Index** (MSCI USA): Given that the index represents the equity market performance of the United State and that 50% of the fund is allocated to the MSCI World Index, which includes the USA, the MXUS Index becomes a key indicator of the equity portion of the fund.\n",
    "-  **MSERP Index** (MSCI Pacific Index):The Index represents equities from the Pacific region, including countries like Japan, Australia, and Hong Kong. Given that the MSCI World Index covers a broad global equity market, the MSERP Index provides a more focused insight into the performance of Pacific-region stocks.\n",
    "-  **MXGB Index** (MSCI United Kingdom Index): The MXGB Index provides specific insights into the performance of the UK equity market. Changes in the UK economic conditions, political landscape, and corporate performance can directly impact the returns of the fund, especially the equity component."
   ]
  },
  {
   "cell_type": "code",
   "execution_count": 78,
   "metadata": {},
   "outputs": [],
   "source": [
    "selected_indices = ['I00039EU Index','I31914EU Index','I00001EU Index',\n",
    "                    'LE57TREU Index', 'I00163EU Index', 'I04276EU Index',\n",
    "                    'MXEUG Index', 'MXUS Index', 'MSERP Index', 'MXGB Index']\n",
    "\n",
    "#variables\n",
    "y = style_ge['Return']\n",
    "\n",
    "x = style_ge.drop(columns=['Return'])\n",
    "\n",
    "#define selected predictor variables\n",
    "x_selected = x[selected_indices]"
   ]
  },
  {
   "cell_type": "markdown",
   "metadata": {},
   "source": [
    "Now that the ideal indices are selected, we can assign optimal weights to them so that they will explain the fund returns the best way possible. In style analysis, this is done by minimizing the Error Volatility. However, due to the complexity of the indices these weights can vary greatly based on the selected time period. Consequently, to get a holistic overview, the style analysis will be conducted both from strategic, dynamic and tactic views."
   ]
  },
  {
   "cell_type": "markdown",
   "metadata": {},
   "source": [
    "## **1.  Strategic (60 months)**"
   ]
  },
  {
   "cell_type": "markdown",
   "metadata": {},
   "source": [
    "### **1.1 Strategic optimized weights and R²**"
   ]
  },
  {
   "cell_type": "code",
   "execution_count": 79,
   "metadata": {},
   "outputs": [],
   "source": [
    "# Create DataFrame\n",
    "df = pd.DataFrame(x_selected)\n",
    "\n",
    "# Assuming you have a list of weights\n",
    "num_indices = len(selected_indices)\n",
    "\n",
    "# Initialize weights\n",
    "initial_weight = 1 / num_indices\n",
    "initialized_weights = [initial_weight] * num_indices\n",
    "\n",
    "# Function to calculate EV\n",
    "def EV(weights, x, y):\n",
    "    style_returns = np.dot(x, weights)\n",
    "    errors = y - style_returns\n",
    "    return np.var(errors)\n",
    "\n",
    "# Constraint: sum of weights is 1\n",
    "constraint = ({'type': 'eq', 'fun': lambda w: np.sum(w) - 1})\n",
    "\n",
    "# Bounds: each weight should be between 0 and 1\n",
    "bounds = [(0, 1) for _ in range(num_indices)]\n",
    "\n",
    "# Initial guess for weights\n",
    "initial_guess = initialized_weights\n",
    "\n",
    "# Perform optimization\n",
    "result = minimize(EV, initial_guess, args=(x_selected.values, y), \n",
    "                  method='SLSQP', bounds=bounds, constraints=constraint)\n",
    "\n",
    "# Extract optimized weights\n",
    "optimized_weights = result.x\n",
    "\n",
    "# Calculate optimized style returns and errors separately\n",
    "optimized_style_returns = np.dot(x_selected.values, optimized_weights)\n",
    "optimized_errors = y - optimized_style_returns\n",
    "\n",
    "# R-squared\n",
    "FV = np.var(y)\n",
    "EV_opt = EV(optimized_weights, x_selected.values, y)\n",
    "r_squared = 1 - (EV_opt / FV)\n",
    "\n",
    "# Create a DataFrame with optimized weights and corresponding index names\n",
    "optimized_weights_df = pd.DataFrame({'Indices': selected_indices,\n",
    "                                     'Style Weight': optimized_weights})\n",
    "\n"
   ]
  },
  {
   "cell_type": "markdown",
   "metadata": {},
   "source": [
    "<details>\n",
    "\n",
    "<summary>Code for table</summary>\n",
    "\n",
    "```python\n",
    "# Sort DataFrame by the 'Style Weight' column in descending order\n",
    "optimized_weights_df = optimized_weights_df.sort_values(by='Style Weight', ascending=False)\n",
    "\n",
    "# Create a Rich Table\n",
    "table = Table(title='Strategic Results', box=box.ROUNDED, caption='Geographic indices')\n",
    "\n",
    "# Add columns to the table in the desired order\n",
    "table.add_column(\"Indices\", justify=\"right\")\n",
    "table.add_column(\"Style Weight\", justify=\"left\")  \n",
    "\n",
    "\n",
    "# Add rows to the table\n",
    "for _, row in optimized_weights_df.iterrows():\n",
    "    # Format 'Style Weight' column to show in scientific notation with 5 digits\n",
    "    style_weight_value = row['Style Weight']\n",
    "    style_weight_formatted = f\"[cyan]{style_weight_value:.5e}[/cyan]\" if style_weight_value > 0 else f\"{style_weight_value:.5e}\"\n",
    "    row_values = [row[\"Indices\"], style_weight_formatted]  # Add other columns as needed\n",
    "    table.add_row(*row_values)\n",
    "\n",
    "# Create a separate Rich Table for R-squared value\n",
    "rsquared_table = Table(box=box.ROUNDED, title='R²', show_header=False)\n",
    "\n",
    "# Add row to the R-squared table\n",
    "rsquared_table.add_row(f\"[cyan bold]{r_squared:.4f}[/cyan bold]\")\n",
    "\n",
    "\n",
    "# Print the table using Rich\n",
    "console = Console()\n",
    "console.print(table)\n",
    "console.print(rsquared_table)\n",
    "```\n",
    "\n",
    "</details>\n",
    "\n"
   ]
  },
  {
   "cell_type": "markdown",
   "metadata": {},
   "source": [
    "<pre style=\"white-space:pre;overflow-x:auto;line-height:normal;font-family:Menlo,'DejaVu Sans Mono',consolas,'Courier New',monospace\"><span style=\"font-style: italic\">        Strategic Results        </span>\n",
    "╭────────────────┬──────────────╮\n",
    "│<span style=\"font-weight: bold\">        Indices </span>│<span style=\"font-weight: bold\"> Style Weight </span>│\n",
    "├────────────────┼──────────────┤\n",
    "│ LE57TREU Index │ <span style=\"color: #008080; text-decoration-color: #008080\">3.57387e-01</span>  │\n",
    "│     MXUS Index │ <span style=\"color: #008080; text-decoration-color: #008080\">3.43111e-01</span>  │\n",
    "│    MXEUG Index │ <span style=\"color: #008080; text-decoration-color: #008080\">8.54643e-02</span>  │\n",
    "│ I00163EU Index │ <span style=\"color: #008080; text-decoration-color: #008080\">8.54179e-02</span>  │\n",
    "│ I31914EU Index │ <span style=\"color: #008080; text-decoration-color: #008080\">8.33946e-02</span>  │\n",
    "│    MSERP Index │ <span style=\"color: #008080; text-decoration-color: #008080\">4.26360e-02</span>  │\n",
    "│ I00001EU Index │ <span style=\"color: #008080; text-decoration-color: #008080\">2.58971e-03</span>  │\n",
    "│ I00039EU Index │ <span style=\"color: #008080; text-decoration-color: #008080\">2.90798e-16</span>  │\n",
    "│ I04276EU Index │ <span style=\"color: #008080; text-decoration-color: #008080\">1.99059e-16</span>  │\n",
    "│     MXGB Index │ 0.00000e+00  │\n",
    "╰────────────────┴──────────────╯\n",
    "<span style=\"color: #7f7f7f; text-decoration-color: #7f7f7f; font-style: italic\">       Geographic indices        </span>\n",
    "</pre>\n",
    "<pre style=\"white-space:pre;overflow-x:auto;line-height:normal;font-family:Menlo,'DejaVu Sans Mono',consolas,'Courier New',monospace\"><span style=\"font-style: italic\">    R²    </span>\n",
    "╭────────╮\n",
    "│ <span style=\"color: #008080; text-decoration-color: #008080; font-weight: bold\">0.8641</span> │\n",
    "╰────────╯\n",
    "</pre>\n"
   ]
  },
  {
   "cell_type": "markdown",
   "metadata": {},
   "source": [
    "Since these results will be used in the B) part of the analysis, it is useful to store them in the necessary forms."
   ]
  },
  {
   "cell_type": "code",
   "execution_count": 80,
   "metadata": {},
   "outputs": [],
   "source": [
    "#store values for B) part\n",
    "# saving index returns\n",
    "returns=x_selected\n",
    "# saving style benchmark optimized returns\n",
    "style_weights = optimized_weights\n",
    "style_benchmark = optimized_style_returns\n",
    "style_benchmark_expected_return = style_benchmark.mean()\n",
    "style_benchmark_risk = style_benchmark.std()\n",
    "# Calculate the expected return and risk for the fund\n",
    "fund_expected_return =  y.mean()\n",
    "fund_risk = y.std()\n"
   ]
  },
  {
   "cell_type": "markdown",
   "metadata": {},
   "source": [
    "### **1.2 Plotting strategic results**"
   ]
  },
  {
   "cell_type": "markdown",
   "metadata": {},
   "source": [
    "<details>\n",
    "\n",
    "<summary>Code for figure</summary>\n",
    "\n",
    "```python\n",
    "labels = selected_indices\n",
    "values = optimized_weights\n",
    "\n",
    "fig = go.Figure(data=[go.Pie(labels=labels, values=values, \n",
    "                             textinfo='percent+label', \n",
    "                             hoverinfo='label+percent', \n",
    "                             marker=dict(colors=px.colors.qualitative.Bold),\n",
    "                             textposition='inside', hole=0.3)])\n",
    "\n",
    "fig.update_layout(\n",
    "    title='<b>Strategic Style Analysis</b>',\n",
    "    title_font=dict(size=20, family='Arial', color='black'),\n",
    "    annotations=[dict(text='Geographic', font=dict(size=12, family='Arial', color='black'),\n",
    "                      showarrow=False, x=0.5, y=0.5)],\n",
    "    height=600,  \n",
    "    width=600, \n",
    "    showlegend=False,\n",
    "    title_x=0.5\n",
    ")\n",
    "\n",
    "\n",
    "fig.show()\n",
    "\n",
    "fig.write_image(\"str.png\", format=\"png\", width=300, height=300, scale=3)\n",
    "```\n",
    "\n",
    "</details>\n",
    "\n",
    "![](str_1.png)\n",
    "\n",
    "\n",
    "\n"
   ]
  },
  {
   "cell_type": "code",
   "execution_count": 81,
   "metadata": {},
   "outputs": [
    {
     "data": {
      "application/vnd.plotly.v1+json": {
       "config": {
        "plotlyServerURL": "https://plot.ly"
       },
       "data": [
        {
         "hole": 0.3,
         "hoverinfo": "label+percent",
         "labels": [
          "I00039EU Index",
          "I31914EU Index",
          "I00001EU Index",
          "LE57TREU Index",
          "I00163EU Index",
          "I04276EU Index",
          "MXEUG Index",
          "MXUS Index",
          "MSERP Index",
          "MXGB Index"
         ],
         "marker": {
          "colors": [
           "rgb(127, 60, 141)",
           "rgb(17, 165, 121)",
           "rgb(57, 105, 172)",
           "rgb(242, 183, 1)",
           "rgb(231, 63, 116)",
           "rgb(128, 186, 90)",
           "rgb(230, 131, 16)",
           "rgb(0, 134, 149)",
           "rgb(207, 28, 144)",
           "rgb(249, 123, 114)",
           "rgb(165, 170, 153)"
          ]
         },
         "textinfo": "percent+label",
         "textposition": "inside",
         "type": "pie",
         "values": [
          2.9079760965603663e-16,
          0.08339464423321638,
          0.0025897146629998,
          0.35738696660906366,
          0.08541785350647331,
          1.9905851089086732e-16,
          0.08546427499734248,
          0.3431105669756952,
          0.042635979015208665,
          0
         ]
        }
       ],
       "layout": {
        "annotations": [
         {
          "font": {
           "color": "black",
           "family": "Arial",
           "size": 12
          },
          "showarrow": false,
          "text": "Geographic",
          "x": 0.5,
          "y": 0.5
         }
        ],
        "height": 600,
        "showlegend": false,
        "template": {
         "data": {
          "bar": [
           {
            "error_x": {
             "color": "#2a3f5f"
            },
            "error_y": {
             "color": "#2a3f5f"
            },
            "marker": {
             "line": {
              "color": "#E5ECF6",
              "width": 0.5
             },
             "pattern": {
              "fillmode": "overlay",
              "size": 10,
              "solidity": 0.2
             }
            },
            "type": "bar"
           }
          ],
          "barpolar": [
           {
            "marker": {
             "line": {
              "color": "#E5ECF6",
              "width": 0.5
             },
             "pattern": {
              "fillmode": "overlay",
              "size": 10,
              "solidity": 0.2
             }
            },
            "type": "barpolar"
           }
          ],
          "carpet": [
           {
            "aaxis": {
             "endlinecolor": "#2a3f5f",
             "gridcolor": "white",
             "linecolor": "white",
             "minorgridcolor": "white",
             "startlinecolor": "#2a3f5f"
            },
            "baxis": {
             "endlinecolor": "#2a3f5f",
             "gridcolor": "white",
             "linecolor": "white",
             "minorgridcolor": "white",
             "startlinecolor": "#2a3f5f"
            },
            "type": "carpet"
           }
          ],
          "choropleth": [
           {
            "colorbar": {
             "outlinewidth": 0,
             "ticks": ""
            },
            "type": "choropleth"
           }
          ],
          "contour": [
           {
            "colorbar": {
             "outlinewidth": 0,
             "ticks": ""
            },
            "colorscale": [
             [
              0,
              "#0d0887"
             ],
             [
              0.1111111111111111,
              "#46039f"
             ],
             [
              0.2222222222222222,
              "#7201a8"
             ],
             [
              0.3333333333333333,
              "#9c179e"
             ],
             [
              0.4444444444444444,
              "#bd3786"
             ],
             [
              0.5555555555555556,
              "#d8576b"
             ],
             [
              0.6666666666666666,
              "#ed7953"
             ],
             [
              0.7777777777777778,
              "#fb9f3a"
             ],
             [
              0.8888888888888888,
              "#fdca26"
             ],
             [
              1,
              "#f0f921"
             ]
            ],
            "type": "contour"
           }
          ],
          "contourcarpet": [
           {
            "colorbar": {
             "outlinewidth": 0,
             "ticks": ""
            },
            "type": "contourcarpet"
           }
          ],
          "heatmap": [
           {
            "colorbar": {
             "outlinewidth": 0,
             "ticks": ""
            },
            "colorscale": [
             [
              0,
              "#0d0887"
             ],
             [
              0.1111111111111111,
              "#46039f"
             ],
             [
              0.2222222222222222,
              "#7201a8"
             ],
             [
              0.3333333333333333,
              "#9c179e"
             ],
             [
              0.4444444444444444,
              "#bd3786"
             ],
             [
              0.5555555555555556,
              "#d8576b"
             ],
             [
              0.6666666666666666,
              "#ed7953"
             ],
             [
              0.7777777777777778,
              "#fb9f3a"
             ],
             [
              0.8888888888888888,
              "#fdca26"
             ],
             [
              1,
              "#f0f921"
             ]
            ],
            "type": "heatmap"
           }
          ],
          "heatmapgl": [
           {
            "colorbar": {
             "outlinewidth": 0,
             "ticks": ""
            },
            "colorscale": [
             [
              0,
              "#0d0887"
             ],
             [
              0.1111111111111111,
              "#46039f"
             ],
             [
              0.2222222222222222,
              "#7201a8"
             ],
             [
              0.3333333333333333,
              "#9c179e"
             ],
             [
              0.4444444444444444,
              "#bd3786"
             ],
             [
              0.5555555555555556,
              "#d8576b"
             ],
             [
              0.6666666666666666,
              "#ed7953"
             ],
             [
              0.7777777777777778,
              "#fb9f3a"
             ],
             [
              0.8888888888888888,
              "#fdca26"
             ],
             [
              1,
              "#f0f921"
             ]
            ],
            "type": "heatmapgl"
           }
          ],
          "histogram": [
           {
            "marker": {
             "pattern": {
              "fillmode": "overlay",
              "size": 10,
              "solidity": 0.2
             }
            },
            "type": "histogram"
           }
          ],
          "histogram2d": [
           {
            "colorbar": {
             "outlinewidth": 0,
             "ticks": ""
            },
            "colorscale": [
             [
              0,
              "#0d0887"
             ],
             [
              0.1111111111111111,
              "#46039f"
             ],
             [
              0.2222222222222222,
              "#7201a8"
             ],
             [
              0.3333333333333333,
              "#9c179e"
             ],
             [
              0.4444444444444444,
              "#bd3786"
             ],
             [
              0.5555555555555556,
              "#d8576b"
             ],
             [
              0.6666666666666666,
              "#ed7953"
             ],
             [
              0.7777777777777778,
              "#fb9f3a"
             ],
             [
              0.8888888888888888,
              "#fdca26"
             ],
             [
              1,
              "#f0f921"
             ]
            ],
            "type": "histogram2d"
           }
          ],
          "histogram2dcontour": [
           {
            "colorbar": {
             "outlinewidth": 0,
             "ticks": ""
            },
            "colorscale": [
             [
              0,
              "#0d0887"
             ],
             [
              0.1111111111111111,
              "#46039f"
             ],
             [
              0.2222222222222222,
              "#7201a8"
             ],
             [
              0.3333333333333333,
              "#9c179e"
             ],
             [
              0.4444444444444444,
              "#bd3786"
             ],
             [
              0.5555555555555556,
              "#d8576b"
             ],
             [
              0.6666666666666666,
              "#ed7953"
             ],
             [
              0.7777777777777778,
              "#fb9f3a"
             ],
             [
              0.8888888888888888,
              "#fdca26"
             ],
             [
              1,
              "#f0f921"
             ]
            ],
            "type": "histogram2dcontour"
           }
          ],
          "mesh3d": [
           {
            "colorbar": {
             "outlinewidth": 0,
             "ticks": ""
            },
            "type": "mesh3d"
           }
          ],
          "parcoords": [
           {
            "line": {
             "colorbar": {
              "outlinewidth": 0,
              "ticks": ""
             }
            },
            "type": "parcoords"
           }
          ],
          "pie": [
           {
            "automargin": true,
            "type": "pie"
           }
          ],
          "scatter": [
           {
            "fillpattern": {
             "fillmode": "overlay",
             "size": 10,
             "solidity": 0.2
            },
            "type": "scatter"
           }
          ],
          "scatter3d": [
           {
            "line": {
             "colorbar": {
              "outlinewidth": 0,
              "ticks": ""
             }
            },
            "marker": {
             "colorbar": {
              "outlinewidth": 0,
              "ticks": ""
             }
            },
            "type": "scatter3d"
           }
          ],
          "scattercarpet": [
           {
            "marker": {
             "colorbar": {
              "outlinewidth": 0,
              "ticks": ""
             }
            },
            "type": "scattercarpet"
           }
          ],
          "scattergeo": [
           {
            "marker": {
             "colorbar": {
              "outlinewidth": 0,
              "ticks": ""
             }
            },
            "type": "scattergeo"
           }
          ],
          "scattergl": [
           {
            "marker": {
             "colorbar": {
              "outlinewidth": 0,
              "ticks": ""
             }
            },
            "type": "scattergl"
           }
          ],
          "scattermapbox": [
           {
            "marker": {
             "colorbar": {
              "outlinewidth": 0,
              "ticks": ""
             }
            },
            "type": "scattermapbox"
           }
          ],
          "scatterpolar": [
           {
            "marker": {
             "colorbar": {
              "outlinewidth": 0,
              "ticks": ""
             }
            },
            "type": "scatterpolar"
           }
          ],
          "scatterpolargl": [
           {
            "marker": {
             "colorbar": {
              "outlinewidth": 0,
              "ticks": ""
             }
            },
            "type": "scatterpolargl"
           }
          ],
          "scatterternary": [
           {
            "marker": {
             "colorbar": {
              "outlinewidth": 0,
              "ticks": ""
             }
            },
            "type": "scatterternary"
           }
          ],
          "surface": [
           {
            "colorbar": {
             "outlinewidth": 0,
             "ticks": ""
            },
            "colorscale": [
             [
              0,
              "#0d0887"
             ],
             [
              0.1111111111111111,
              "#46039f"
             ],
             [
              0.2222222222222222,
              "#7201a8"
             ],
             [
              0.3333333333333333,
              "#9c179e"
             ],
             [
              0.4444444444444444,
              "#bd3786"
             ],
             [
              0.5555555555555556,
              "#d8576b"
             ],
             [
              0.6666666666666666,
              "#ed7953"
             ],
             [
              0.7777777777777778,
              "#fb9f3a"
             ],
             [
              0.8888888888888888,
              "#fdca26"
             ],
             [
              1,
              "#f0f921"
             ]
            ],
            "type": "surface"
           }
          ],
          "table": [
           {
            "cells": {
             "fill": {
              "color": "#EBF0F8"
             },
             "line": {
              "color": "white"
             }
            },
            "header": {
             "fill": {
              "color": "#C8D4E3"
             },
             "line": {
              "color": "white"
             }
            },
            "type": "table"
           }
          ]
         },
         "layout": {
          "annotationdefaults": {
           "arrowcolor": "#2a3f5f",
           "arrowhead": 0,
           "arrowwidth": 1
          },
          "autotypenumbers": "strict",
          "coloraxis": {
           "colorbar": {
            "outlinewidth": 0,
            "ticks": ""
           }
          },
          "colorscale": {
           "diverging": [
            [
             0,
             "#8e0152"
            ],
            [
             0.1,
             "#c51b7d"
            ],
            [
             0.2,
             "#de77ae"
            ],
            [
             0.3,
             "#f1b6da"
            ],
            [
             0.4,
             "#fde0ef"
            ],
            [
             0.5,
             "#f7f7f7"
            ],
            [
             0.6,
             "#e6f5d0"
            ],
            [
             0.7,
             "#b8e186"
            ],
            [
             0.8,
             "#7fbc41"
            ],
            [
             0.9,
             "#4d9221"
            ],
            [
             1,
             "#276419"
            ]
           ],
           "sequential": [
            [
             0,
             "#0d0887"
            ],
            [
             0.1111111111111111,
             "#46039f"
            ],
            [
             0.2222222222222222,
             "#7201a8"
            ],
            [
             0.3333333333333333,
             "#9c179e"
            ],
            [
             0.4444444444444444,
             "#bd3786"
            ],
            [
             0.5555555555555556,
             "#d8576b"
            ],
            [
             0.6666666666666666,
             "#ed7953"
            ],
            [
             0.7777777777777778,
             "#fb9f3a"
            ],
            [
             0.8888888888888888,
             "#fdca26"
            ],
            [
             1,
             "#f0f921"
            ]
           ],
           "sequentialminus": [
            [
             0,
             "#0d0887"
            ],
            [
             0.1111111111111111,
             "#46039f"
            ],
            [
             0.2222222222222222,
             "#7201a8"
            ],
            [
             0.3333333333333333,
             "#9c179e"
            ],
            [
             0.4444444444444444,
             "#bd3786"
            ],
            [
             0.5555555555555556,
             "#d8576b"
            ],
            [
             0.6666666666666666,
             "#ed7953"
            ],
            [
             0.7777777777777778,
             "#fb9f3a"
            ],
            [
             0.8888888888888888,
             "#fdca26"
            ],
            [
             1,
             "#f0f921"
            ]
           ]
          },
          "colorway": [
           "#636efa",
           "#EF553B",
           "#00cc96",
           "#ab63fa",
           "#FFA15A",
           "#19d3f3",
           "#FF6692",
           "#B6E880",
           "#FF97FF",
           "#FECB52"
          ],
          "font": {
           "color": "#2a3f5f"
          },
          "geo": {
           "bgcolor": "white",
           "lakecolor": "white",
           "landcolor": "#E5ECF6",
           "showlakes": true,
           "showland": true,
           "subunitcolor": "white"
          },
          "hoverlabel": {
           "align": "left"
          },
          "hovermode": "closest",
          "mapbox": {
           "style": "light"
          },
          "paper_bgcolor": "white",
          "plot_bgcolor": "#E5ECF6",
          "polar": {
           "angularaxis": {
            "gridcolor": "white",
            "linecolor": "white",
            "ticks": ""
           },
           "bgcolor": "#E5ECF6",
           "radialaxis": {
            "gridcolor": "white",
            "linecolor": "white",
            "ticks": ""
           }
          },
          "scene": {
           "xaxis": {
            "backgroundcolor": "#E5ECF6",
            "gridcolor": "white",
            "gridwidth": 2,
            "linecolor": "white",
            "showbackground": true,
            "ticks": "",
            "zerolinecolor": "white"
           },
           "yaxis": {
            "backgroundcolor": "#E5ECF6",
            "gridcolor": "white",
            "gridwidth": 2,
            "linecolor": "white",
            "showbackground": true,
            "ticks": "",
            "zerolinecolor": "white"
           },
           "zaxis": {
            "backgroundcolor": "#E5ECF6",
            "gridcolor": "white",
            "gridwidth": 2,
            "linecolor": "white",
            "showbackground": true,
            "ticks": "",
            "zerolinecolor": "white"
           }
          },
          "shapedefaults": {
           "line": {
            "color": "#2a3f5f"
           }
          },
          "ternary": {
           "aaxis": {
            "gridcolor": "white",
            "linecolor": "white",
            "ticks": ""
           },
           "baxis": {
            "gridcolor": "white",
            "linecolor": "white",
            "ticks": ""
           },
           "bgcolor": "#E5ECF6",
           "caxis": {
            "gridcolor": "white",
            "linecolor": "white",
            "ticks": ""
           }
          },
          "title": {
           "x": 0.05
          },
          "xaxis": {
           "automargin": true,
           "gridcolor": "white",
           "linecolor": "white",
           "ticks": "",
           "title": {
            "standoff": 15
           },
           "zerolinecolor": "white",
           "zerolinewidth": 2
          },
          "yaxis": {
           "automargin": true,
           "gridcolor": "white",
           "linecolor": "white",
           "ticks": "",
           "title": {
            "standoff": 15
           },
           "zerolinecolor": "white",
           "zerolinewidth": 2
          }
         }
        },
        "title": {
         "font": {
          "color": "black",
          "family": "Arial",
          "size": 20
         },
         "text": "<b>Strategic Style Analysis</b>",
         "x": 0.5
        },
        "width": 600
       }
      }
     },
     "metadata": {},
     "output_type": "display_data"
    }
   ],
   "source": [
    "labels = selected_indices\n",
    "values = optimized_weights\n",
    "\n",
    "fig = go.Figure(data=[go.Pie(labels=labels, values=values, \n",
    "                             textinfo='percent+label', \n",
    "                             hoverinfo='label+percent', \n",
    "                             marker=dict(colors=px.colors.qualitative.Bold),\n",
    "                             textposition='inside', hole=0.3)])\n",
    "\n",
    "fig.update_layout(\n",
    "    title='<b>Strategic Style Analysis</b>',\n",
    "    title_font=dict(size=20, family='Arial', color='black'),\n",
    "    annotations=[dict(text='Geographic', font=dict(size=12, family='Arial', color='black'),\n",
    "                      showarrow=False, x=0.5, y=0.5)],\n",
    "    height=600,  \n",
    "    width=600, \n",
    "    showlegend=False,\n",
    "    title_x=0.5\n",
    ")\n",
    "\n",
    "\n",
    "fig.show()\n",
    "\n",
    "fig.write_html('str_1.html')\n"
   ]
  },
  {
   "cell_type": "markdown",
   "metadata": {},
   "source": [
    "The chosen indices explain all togather 86.4% of the variance in the fund returns. This is mostly thanks to the **LE57TREU** and **MXUS** indices, which togather represent 70% of the weights. This means that the investment styles of LE57TREU and MXUS align the most with the fund's overall investment style.Afterwards the **MXEUG, I00163EU, I31914EU, MSERP** indices, focusing more on the emerging markets and the Pacific region are filling the remaining gaps, leaving the United Kingdom insignificant."
   ]
  },
  {
   "cell_type": "markdown",
   "metadata": {},
   "source": [
    "## **2. Rolling (25 periods of 36 months each)**\n",
    "### **2.1 Rolling optimized weights and R²**"
   ]
  },
  {
   "cell_type": "code",
   "execution_count": 82,
   "metadata": {},
   "outputs": [
    {
     "name": "stdout",
     "output_type": "stream",
     "text": [
      "    I00039EU Index  I31914EU Index  I00001EU Index  LE57TREU Index  \\\n",
      "0     1.771927e-15        0.043949    0.000000e+00        0.510126   \n",
      "1     2.320798e-16        0.062601    2.514525e-16        0.501998   \n",
      "2     5.375964e-16        0.063621    0.000000e+00        0.502190   \n",
      "3     7.491378e-16        0.060840    0.000000e+00        0.507362   \n",
      "4     0.000000e+00        0.033425    0.000000e+00        0.527004   \n",
      "5     0.000000e+00        0.032353    2.040011e-16        0.528486   \n",
      "6     0.000000e+00        0.058543    1.469321e-16        0.493106   \n",
      "7     2.004413e-16        0.119092    4.199329e-16        0.431476   \n",
      "8     1.333489e-15        0.126087    0.000000e+00        0.423419   \n",
      "9     7.871850e-16        0.111975    0.000000e+00        0.434391   \n",
      "10    1.828755e-15        0.119379    4.116691e-16        0.435455   \n",
      "11    0.000000e+00        0.142525    2.288994e-16        0.410974   \n",
      "12    6.720372e-16        0.105384    0.000000e+00        0.435964   \n",
      "13    1.291365e-15        0.063275    7.170797e-02        0.406841   \n",
      "14    0.000000e+00        0.095164    4.367098e-02        0.401206   \n",
      "15    0.000000e+00        0.067568    4.018082e-16        0.357261   \n",
      "16    0.000000e+00        0.075874    4.080576e-16        0.351718   \n",
      "17    0.000000e+00        0.053732    2.369185e-16        0.359271   \n",
      "18    3.417272e-02        0.046889    1.646497e-16        0.230640   \n",
      "19    1.824097e-18        0.100829    2.630746e-17        0.353887   \n",
      "20    6.956982e-02        0.081760    0.000000e+00        0.360183   \n",
      "21    4.544634e-02        0.066458    0.000000e+00        0.308353   \n",
      "22    0.000000e+00        0.119524    0.000000e+00        0.143998   \n",
      "23    5.044680e-17        0.116108    0.000000e+00        0.132224   \n",
      "24    5.330665e-17        0.085656    3.220765e-02        0.145910   \n",
      "\n",
      "    I00163EU Index  I04276EU Index   MXEUG Index  MXUS Index   MSERP Index  \\\n",
      "0     0.000000e+00    1.193084e-15  2.708998e-16    0.433048  4.717653e-03   \n",
      "1     0.000000e+00    9.465356e-16  0.000000e+00    0.421386  0.000000e+00   \n",
      "2     0.000000e+00    2.121255e-16  0.000000e+00    0.426593  5.430184e-17   \n",
      "3     0.000000e+00    0.000000e+00  0.000000e+00    0.410116  0.000000e+00   \n",
      "4     0.000000e+00    0.000000e+00  5.032791e-03    0.433474  1.063577e-03   \n",
      "5     2.701575e-17    0.000000e+00  5.958734e-17    0.423993  1.516827e-02   \n",
      "6     1.059327e-16    0.000000e+00  0.000000e+00    0.436555  1.179663e-02   \n",
      "7     6.056592e-17    7.415351e-16  2.440778e-02    0.422614  2.410562e-03   \n",
      "8     2.697210e-17    1.149334e-15  2.289900e-02    0.427596  0.000000e+00   \n",
      "9     1.311212e-16    0.000000e+00  2.590795e-02    0.427726  0.000000e+00   \n",
      "10    0.000000e+00    6.565323e-16  3.858976e-02    0.406576  0.000000e+00   \n",
      "11    0.000000e+00    0.000000e+00  3.682784e-02    0.409581  9.235691e-05   \n",
      "12    3.467739e-17    2.351642e-16  7.342419e-03    0.411563  3.974595e-02   \n",
      "13    0.000000e+00    1.159954e-15  0.000000e+00    0.379689  7.848737e-02   \n",
      "14    5.526771e-03    0.000000e+00  8.956427e-17    0.399845  5.458642e-02   \n",
      "15    1.252379e-01    6.317410e-16  1.812971e-02    0.372427  5.937766e-02   \n",
      "16    1.212026e-01    2.719893e-16  1.978641e-02    0.371767  5.965292e-02   \n",
      "17    1.575562e-01    0.000000e+00  1.816022e-02    0.371514  3.976553e-02   \n",
      "18    1.829983e-01    4.278533e-17  6.159541e-02    0.371736  7.196806e-02   \n",
      "19    6.226940e-02    0.000000e+00  9.086493e-02    0.319802  7.234722e-02   \n",
      "20    3.381891e-02    4.938793e-17  1.270031e-01    0.280621  4.704408e-02   \n",
      "21    1.201428e-01    0.000000e+00  1.445350e-01    0.282716  3.235007e-02   \n",
      "22    1.973167e-01    2.675504e-17  1.644583e-01    0.263297  1.008845e-01   \n",
      "23    2.253385e-01    2.627377e-17  1.764478e-01    0.255978  7.133227e-02   \n",
      "24    2.216479e-01    2.492253e-18  1.996882e-01    0.254299  6.059075e-02   \n",
      "\n",
      "      MXGB Index  \n",
      "0   8.159452e-03  \n",
      "1   1.401562e-02  \n",
      "2   7.596152e-03  \n",
      "3   2.168127e-02  \n",
      "4   4.084893e-17  \n",
      "5   4.049635e-16  \n",
      "6   3.902658e-16  \n",
      "7   0.000000e+00  \n",
      "8   0.000000e+00  \n",
      "9   0.000000e+00  \n",
      "10  0.000000e+00  \n",
      "11  4.407776e-17  \n",
      "12  0.000000e+00  \n",
      "13  0.000000e+00  \n",
      "14  0.000000e+00  \n",
      "15  0.000000e+00  \n",
      "16  0.000000e+00  \n",
      "17  0.000000e+00  \n",
      "18  0.000000e+00  \n",
      "19  0.000000e+00  \n",
      "20  1.207379e-17  \n",
      "21  3.632077e-18  \n",
      "22  1.052214e-02  \n",
      "23  2.257215e-02  \n",
      "24  0.000000e+00  \n"
     ]
    }
   ],
   "source": [
    "# Function to get effective weights and optimized EV for a rolling window\n",
    "def get_effective_weights_and_EV(x, y, window_size):\n",
    "    effective_weights_list = []\n",
    "    optimized_EV_list = []\n",
    "    r_squared_list = []\n",
    "\n",
    "    for i in range(len(x) - window_size + 1):\n",
    "        # Extract data for the current window\n",
    "        x_window = x.iloc[i:i+window_size]\n",
    "        y_window = y.iloc[i:i+window_size]\n",
    "\n",
    "        # Initialize weights\n",
    "        num_indices = len(x_window.columns)\n",
    "        initial_weight = 1 / num_indices\n",
    "        initialized_weights = [initial_weight for _ in range(num_indices)]\n",
    "\n",
    "        # Constraint: sum of weights is 1\n",
    "        constraint = ({'type': 'eq', 'fun': lambda w: np.sum(w) - 1})\n",
    "\n",
    "        # Bounds: each weight should be between 0 and 1\n",
    "        bounds = [(0, 1) for _ in range(len(initialized_weights))]\n",
    "\n",
    "        # Initial guess for weights\n",
    "        initial_guess = initialized_weights\n",
    "\n",
    "        # Perform optimization for the current window\n",
    "        result = minimize(EV, initial_guess, args=(x_window.values, y_window),\n",
    "                          method='SLSQP', bounds=bounds, constraints=constraint)\n",
    "\n",
    "        # Extract optimized weights and EV\n",
    "        optimized_weights = result.x\n",
    "        optimized_EV = EV(optimized_weights, x_window.values, y_window)\n",
    "\n",
    "        # Calculate FV for the current window\n",
    "        current_FV = np.var(y_window)\n",
    "\n",
    "        effective_weights_list.append(optimized_weights)\n",
    "        optimized_EV_list.append(optimized_EV)\n",
    "        r_squared_list.append(1 - (optimized_EV / current_FV))\n",
    "\n",
    "    return pd.DataFrame(effective_weights_list, \n",
    "                        columns=x.columns),optimized_EV_list, r_squared_list\n",
    "\n",
    "# Set the rolling window size\n",
    "window_size = 36\n",
    "\n",
    "# Get effective weights, optimized EV, and Rsquared for each rolling window\n",
    "effective_weights_df, optimized_EV_list, r_squared_list = get_effective_weights_and_EV(x_selected,  y, window_size)\n",
    "ef_head=effective_weights_df.head()\n",
    "print(effective_weights_df)\n"
   ]
  },
  {
   "cell_type": "code",
   "execution_count": 83,
   "metadata": {},
   "outputs": [],
   "source": [
    "# Save weights_data \n",
    "effective_weights_df.to_csv('weights.csv', index=False)\n"
   ]
  },
  {
   "cell_type": "markdown",
   "metadata": {},
   "source": [
    "\n",
    "\n",
    "<details>\n",
    "\n",
    "<summary>Code for table</summary>\n",
    "\n",
    "```python\n",
    "table = Table(title='Geographic Rolling Weights', box=box.SIMPLE_HEAD, caption='First 5 rolling windows')\n",
    "\n",
    "# Add columns to the table\n",
    "for column in ef_head.columns:\n",
    "    table.add_column(column, justify=\"center\")\n",
    "\n",
    "# Add a new column for the first 5 values of R-squared\n",
    "table.add_column(\"R²\", justify=\"center\")\n",
    "\n",
    "# Add rows to the table\n",
    "for i, (index, row) in enumerate(ef_head.iterrows()):\n",
    "    # Add row values\n",
    "    values = [f\"{value:.4f}\" for value in row[ef_head.columns]]\n",
    "    \n",
    "    # Add R-squared value as a new column\n",
    "    values.append(f\"{r_squared_list[i]:.4f}\")\n",
    "\n",
    "    # Add the row to the table\n",
    "    table.add_row(*values)\n",
    "\n",
    "    # Break after adding the first 5 rows\n",
    "    if i == 4:\n",
    "        break\n",
    "\n",
    "# Print the table using Rich\n",
    "console = Console()\n",
    "console.print(table)\n",
    "```\n",
    "\n",
    "</details>\n"
   ]
  },
  {
   "cell_type": "markdown",
   "metadata": {},
   "source": [
    "<pre style=\"white-space:pre;overflow-x:auto;line-height:normal;font-family:Menlo,'DejaVu Sans Mono',consolas,'Courier New',monospace\"><span style=\"font-style: italic\">                                            Geographic Rolling Weights                                             </span>\n",
    "                                                                                                                   \n",
    " <span style=\"font-weight: bold\"> I00039EU </span> <span style=\"font-weight: bold\"> I31914… </span> <span style=\"font-weight: bold\"> I00001EU </span> <span style=\"font-weight: bold\"> LE57TR… </span> <span style=\"font-weight: bold\"> I00163EU </span> <span style=\"font-weight: bold\"> I04276… </span> <span style=\"font-weight: bold\">  MXEUG   </span> <span style=\"font-weight: bold\">  MXUS   </span> <span style=\"font-weight: bold\">  MSERP   </span> <span style=\"font-weight: bold\">  MXGB   </span> <span style=\"font-weight: bold\">        </span> \n",
    " <span style=\"font-weight: bold\">  Index   </span> <span style=\"font-weight: bold\">  Index  </span> <span style=\"font-weight: bold\">  Index   </span> <span style=\"font-weight: bold\">  Index  </span> <span style=\"font-weight: bold\">  Index   </span> <span style=\"font-weight: bold\">  Index  </span> <span style=\"font-weight: bold\">  Index   </span> <span style=\"font-weight: bold\">  Index  </span> <span style=\"font-weight: bold\">  Index   </span> <span style=\"font-weight: bold\">  Index  </span> <span style=\"font-weight: bold\">   R²   </span> \n",
    " ───────────────────────────────────────────────────────────────────────────────────────────────────────────────── \n",
    "   0.0000    0.0439     0.0000    0.5101     0.0000    0.0000     0.0000    0.4330     0.0047    0.0082    0.8876  \n",
    "   0.0000    0.0626     0.0000    0.5020     0.0000    0.0000     0.0000    0.4214     0.0000    0.0140    0.8877  \n",
    "   0.0000    0.0636     0.0000    0.5022     0.0000    0.0000     0.0000    0.4266     0.0000    0.0076    0.8894  \n",
    "   0.0000    0.0608     0.0000    0.5074     0.0000    0.0000     0.0000    0.4101     0.0000    0.0217    0.8714  \n",
    "   0.0000    0.0334     0.0000    0.5270     0.0000    0.0000     0.0050    0.4335     0.0011    0.0000    0.8666  \n",
    "                                                                                                                   \n",
    "<span style=\"color: #7f7f7f; text-decoration-color: #7f7f7f; font-style: italic\">                                              First 5 rolling windows                                              </span>\n",
    "</pre>\n"
   ]
  },
  {
   "cell_type": "markdown",
   "metadata": {},
   "source": [
    "### **2.2 Plotting rolling results**"
   ]
  },
  {
   "cell_type": "markdown",
   "metadata": {},
   "source": [
    "<details>\n",
    "\n",
    "<summary>Code for figure</summary>\n",
    "\n",
    "```python\n",
    "import plotly.graph_objects as go\n",
    "from plotly.subplots import make_subplots\n",
    "# Create a Plotly subplot with dual-y axis plot\n",
    "fig = make_subplots(specs=[[{\"secondary_y\": True}]])\n",
    "\n",
    "# Set a bold color palette\n",
    "bold_colors = px.colors.qualitative.Bold\n",
    "\n",
    "# Plot 100% stacked area chart for effective weights\n",
    "for col, color in zip(effective_weights_df.columns, bold_colors):\n",
    "    fill_color_lighter = f'rgba{color[3:-1]},0.6)'  # Make fill color lighter (adjust 0.5 for opacity)\n",
    "    fig.add_trace(go.Scatter(x=effective_weights_df.index, y=effective_weights_df[col],\n",
    "                             mode='lines', stackgroup='one', name=col,\n",
    "                             fillcolor=fill_color_lighter, fill='tonexty', line=dict(color=color)))\n",
    "\n",
    "# Set layout for the first y-axis\n",
    "fig.update_yaxes(title_text='Weights', secondary_y=False)\n",
    "\n",
    "# Plot line chart for R-squared on the second y-axis\n",
    "fig.add_trace(go.Scatter(x=effective_weights_df.index, y=r_squared_list,\n",
    "                         mode='lines', name='R²', line=dict(dash='dash', color='black')), secondary_y=True)\n",
    "\n",
    "# Set layout for the second y-axis\n",
    "fig.update_yaxes(title_text='R²', secondary_y=True)\n",
    "\n",
    "# Set layout for the x-axis\n",
    "fig.update_xaxes(title_text='Time')\n",
    "\n",
    "# Set layout for the entire figure\n",
    "fig.update_layout(title_text='<b>Weights and R² Over Time</b>',\n",
    "                  height=600, width=1000, showlegend=True, title_x=0.5, title_font=dict(size=20, family='Arial', color='black'),\n",
    ")\n",
    "\n",
    "# Show the plot\n",
    "fig.show()\n",
    "\n",
    "fig.write_image(\"rol1.png\", format=\"png\", width=1000, height=600, scale=3)\n",
    "```\n",
    "\n",
    "</details>\n",
    "\n",
    "![](rol1.png)\n",
    "\n",
    "\n",
    "\n",
    "\n",
    "\n",
    "\n",
    "\n",
    "\n"
   ]
  },
  {
   "cell_type": "markdown",
   "metadata": {},
   "source": [
    "As the graph shows, the main predictors over time are the **LE57TREU** and **MXUS** indices, in harmony with the findings of the the startegic analysis. Together with the **I31914EU** index these three seem to have a stable significant presence. However, the role of the other indices are rather fluctuating, and they just appear in the second half of the rolling. The complexity of predicting the fund with these indices is represented with the path of the r-squared over time, which is rather volatile. But after having a closer look it is clear that the r-square moves between 85% and 90%, which implies trustworty results."
   ]
  },
  {
   "cell_type": "markdown",
   "metadata": {},
   "source": [
    "## **3.  Tactical (last months)**"
   ]
  },
  {
   "cell_type": "markdown",
   "metadata": {},
   "source": [
    "### **3.1 Tactical optimized weights and R²**"
   ]
  },
  {
   "cell_type": "code",
   "execution_count": 84,
   "metadata": {},
   "outputs": [],
   "source": [
    "# Assuming you have a list of weights\n",
    "num_indices = len(x_selected.columns)\n",
    "\n",
    "# Initialize weights\n",
    "initial_weight = 1 / num_indices\n",
    "initialized_weights = [initial_weight for _ in range(num_indices)]\n",
    "\n",
    "# Extract the last 8 months data\n",
    "last_months_data = x_selected.tail(8)\n",
    "y_last_months = y.tail(8)\n",
    "\n",
    "# Constraint: sum of weights is 1\n",
    "constraint = ({'type': 'eq', 'fun': lambda w: np.sum(w) - 1})\n",
    "\n",
    "# Bounds: each weight should be between 0 and 1\n",
    "bounds = [(0, 1) for _ in range(len(initialized_weights))]\n",
    "\n",
    "# Initial guess for weights\n",
    "initial_guess = initialized_weights\n",
    "\n",
    "# Perform optimization for the last 8 months\n",
    "result = minimize(EV, initial_guess, \n",
    "                  args=(last_months_data.values, y_last_months), \n",
    "                  method='SLSQP', bounds=bounds, constraints=constraint)\n",
    "\n",
    "# Extract optimized weights\n",
    "optimized_weights = result.x\n",
    "#R-squared\n",
    "FV = np.var(y_last_months)\n",
    "EV_opt = EV(optimized_weights, last_months_data.values, y_last_months)\n",
    "r_squared=1-(EV_opt/FV)\n",
    "\n",
    "\n",
    "# Create a DataFrame with optimized weights and corresponding index names\n",
    "optimized_weights_df = pd.DataFrame({'Indices': selected_indices,\n",
    "                                     'Style Weight': optimized_weights})"
   ]
  },
  {
   "cell_type": "markdown",
   "metadata": {},
   "source": [
    "\n",
    "\n",
    "<details>\n",
    "\n",
    "<summary>Code for table</summary>\n",
    "\n",
    "```python\n",
    "# Sort DataFrame by the 'Style Weight' column in descending order\n",
    "optimized_weights_df = optimized_weights_df.sort_values(by='Style Weight', ascending=False)\n",
    "# Create a Rich Table\n",
    "table = Table(title='Tactical Results', box=box.ROUNDED)\n",
    "\n",
    "# Add columns to the table in the desired order\n",
    "table.add_column(\"Indices\", justify=\"right\")\n",
    "table.add_column(\"Style Weight\", justify=\"left\")  \n",
    "\n",
    "\n",
    "# Add rows to the table\n",
    "for _, row in optimized_weights_df.iterrows():\n",
    "    # Format 'Style Weight' column to show in scientific notation with 5 digits\n",
    "    style_weight_value = row['Style Weight']\n",
    "    style_weight_formatted = f\"[cyan]{style_weight_value:.5e}[/cyan]\" if style_weight_value > 0 else f\"{style_weight_value:.5e}\"\n",
    "    row_values = [row[\"Indices\"], style_weight_formatted]  # Add other columns as needed\n",
    "    table.add_row(*row_values)\n",
    "\n",
    "# Create a separate Rich Table for R-squared value\n",
    "rsquared_table = Table(box=box.ROUNDED, title='R²', show_header=False)\n",
    "\n",
    "# Add row to the R-squared table\n",
    "rsquared_table.add_row(f\"[cyan bold]{r_squared:.4f}[/cyan bold]\")\n",
    "\n",
    "\n",
    "# Print the table using Rich\n",
    "console = Console()\n",
    "console.print(table)\n",
    "console.print(rsquared_table)\n",
    "\n",
    "```\n",
    "\n",
    "</details>\n",
    "\n"
   ]
  },
  {
   "cell_type": "markdown",
   "metadata": {},
   "source": [
    "<pre style=\"white-space:pre;overflow-x:auto;line-height:normal;font-family:Menlo,'DejaVu Sans Mono',consolas,'Courier New',monospace\"><span style=\"font-style: italic\">        Tactical Results         </span>\n",
    "╭────────────────┬──────────────╮\n",
    "│<span style=\"font-weight: bold\">        Indices </span>│<span style=\"font-weight: bold\"> Style Weight </span>│\n",
    "├────────────────┼──────────────┤\n",
    "│ LE57TREU Index │ <span style=\"color: #008080; text-decoration-color: #008080\">4.95716e-01</span>  │\n",
    "│    MXEUG Index │ <span style=\"color: #008080; text-decoration-color: #008080\">1.94703e-01</span>  │\n",
    "│     MXUS Index │ <span style=\"color: #008080; text-decoration-color: #008080\">1.62098e-01</span>  │\n",
    "│ I04276EU Index │ <span style=\"color: #008080; text-decoration-color: #008080\">1.07498e-01</span>  │\n",
    "│     MXGB Index │ <span style=\"color: #008080; text-decoration-color: #008080\">3.99854e-02</span>  │\n",
    "│ I00001EU Index │ <span style=\"color: #008080; text-decoration-color: #008080\">2.27738e-16</span>  │\n",
    "│    MSERP Index │ <span style=\"color: #008080; text-decoration-color: #008080\">1.99462e-16</span>  │\n",
    "│ I00163EU Index │ <span style=\"color: #008080; text-decoration-color: #008080\">1.70192e-16</span>  │\n",
    "│ I00039EU Index │ 0.00000e+00  │\n",
    "│ I31914EU Index │ 0.00000e+00  │\n",
    "╰────────────────┴──────────────╯\n",
    "</pre>\n",
    "<pre style=\"white-space:pre;overflow-x:auto;line-height:normal;font-family:Menlo,'DejaVu Sans Mono',consolas,'Courier New',monospace\"><span style=\"font-style: italic\">    R²    </span>\n",
    "╭────────╮\n",
    "│ <span style=\"color: #008080; text-decoration-color: #008080; font-weight: bold\">0.8254</span> │\n",
    "╰────────╯\n",
    "</pre>\n"
   ]
  },
  {
   "cell_type": "markdown",
   "metadata": {},
   "source": [
    "### **3.2 Plotting tactical results**"
   ]
  },
  {
   "cell_type": "markdown",
   "metadata": {},
   "source": [
    "\n",
    "\n",
    "<details>\n",
    "\n",
    "<summary>Code for figure</summary>\n",
    "\n",
    "```python\n",
    "labels = selected_indices\n",
    "values = optimized_weights\n",
    "\n",
    "fig = go.Figure(data=[go.Pie(labels=labels, values=values, \n",
    "                             textinfo='percent+label', \n",
    "                             hoverinfo='label+percent', \n",
    "                             marker=dict(colors=px.colors.qualitative.Bold),\n",
    "                             textposition='inside', hole=0.3)])\n",
    "\n",
    "fig.update_layout(\n",
    "    title='<b>Tactical Style Analysis</b>',\n",
    "    title_font=dict(size=20, family='Arial', color='black'),\n",
    "    annotations=[dict(text='Geographic', font=dict(size=12, family='Arial', color='black'),\n",
    "                      showarrow=False, x=0.5, y=0.5)],\n",
    "    height=600,  \n",
    "    width=600, \n",
    "    showlegend=False,\n",
    "    title_x=0.5\n",
    ")\n",
    "\n",
    "\n",
    "fig.show()\n",
    "fig.write_image(\"tac1.png\", format=\"png\", width=600, height=600, scale=3)\n",
    "\n",
    "```\n",
    "\n",
    "</details>\n",
    "\n",
    "![](tac1.png)\n"
   ]
  },
  {
   "cell_type": "markdown",
   "metadata": {},
   "source": [
    "Based on just the last 8 months of data, the explanatory power of the style analysis got reduced to 82.5%. Although the main players stayed the same as before, the predictions got more EU-focused with the big weights assigned to **LE57TREU** and **MXEUG**. Furthermore, while so far the impact of **MXGB** was neglictible, now around 4% of the last months is influenced by it."
   ]
  },
  {
   "cell_type": "markdown",
   "metadata": {},
   "source": [
    "# **A2) Style analysis by sectors**\n",
    "## **0. Selecting indices**"
   ]
  },
  {
   "cell_type": "markdown",
   "metadata": {},
   "source": [
    "The following sector-based indices have been chosen for the style analysis.\n",
    "\n",
    "1. **MXWO000V Index (MSCI World Index):**\n",
    "   - Represents a broad equity market index covering developed and emerging market countries.\n",
    "   - Ideal for predicting fund returns because the fund itself consists of 50% MSCI World Index, making this index directly relevant to half of the fund's composition.\n",
    "\n",
    "2. **MXWO000G Index (MSCI World Growth Index):**\n",
    "   - Focuses on companies with higher expected earnings growth.\n",
    "   - May be relevant for predicting returns if the fund has a growth-oriented equity allocation.\n",
    "\n",
    "3. **MXWO0MT Index (MSCI World Materials Sector Index):**\n",
    "   - Tracks companies in the materials sector.\n",
    "   - Relevant if the fund has specific exposure to materials or commodities.\n",
    "\n",
    "4. **MXWO0TC Index (MSCI World Telecommunication Services Sector Index):**\n",
    "   - Represents the global telecommunication services sector.\n",
    "   - Relevant if the fund has exposure to telecommunication stocks.\n",
    "\n",
    "5. **MXWO0CS Index (MSCI World Consumer Staples Sector Index):**\n",
    "   - Includes companies in the consumer staples sector.\n",
    "   - Relevant if the fund has a defensive or consumer staples-focused allocation.\n",
    "\n",
    "6. **MXWO0CD Index (MSCI World Consumer Discretionary Sector Index):**\n",
    "   - Encompasses companies in the consumer discretionary sector.\n",
    "   - Relevant if the fund has exposure to consumer discretionary stocks.\n",
    "\n",
    "7. **MXWO0HC Index (MSCI World Healthcare Sector Index):**\n",
    "   - Tracks companies in the healthcare sector.\n",
    "   - Important if the fund includes healthcare-related investments.\n",
    "\n",
    "8. **MXWO0IT Index (MSCI World Information Technology Sector Index):**\n",
    "   - Focuses on the global information technology sector.\n",
    "   - Relevant if the fund has a significant allocation to technology stocks.\n",
    "\n",
    "9. **MXWO0UT Index (MSCI World Utilities Sector Index):**\n",
    "   - Represents the global utilities sector.\n",
    "   - Relevant if the fund has a defensive or income-oriented utility allocation.\n",
    "\n",
    "10. **MXWO0RE Index (MSCI World Real Estate Sector Index):**\n",
    "   - Includes real estate companies from around the world.\n",
    "   - Relevant if the fund has a real estate allocation.\n",
    "\n",
    "Choosing these indices for prediction aligns with the fund's composition, providing sector-specific insights that may impact returns. It allows for a comprehensive analysis of both equity and bond components within the fund."
   ]
  },
  {
   "cell_type": "code",
   "execution_count": 85,
   "metadata": {},
   "outputs": [],
   "source": [
    "#dependent variable\n",
    "y = style_se['Return']\n",
    "\n",
    "#predictor variables\n",
    "x = style_se.drop(columns=['Return'])\n",
    "\n",
    "#seleceted index names\n",
    "selected_indices =  [ \"MXWO000V Index\", \"MXWO000G Index\", \"MXWO0MT Index\", \n",
    "                     \"MXWO0TC Index\", \"MXWO0CS Index\", \"MXWO0CD Index\",  \n",
    "                     \"MXWO0HC Index\", \"MXWO0IT Index\", \"MXWO0UT Index\",\n",
    "                     \"MXWO0RE Index\"]\n",
    "#all indices: [ \"MXWOLC Index\", \"MXWOMC Index\", \"MXWOSC Index\", \"MXWO000V Index\", \"MXWO000G Index\", \"MXWO0MT Index\", \"MXWO0TC Index\", \"MXWO0CS Index\", \"MXWO0CD Index\", \"MXWO0EN Index\", \"MXWO0FN Index\", \"MXWO0HC Index\",  \"MXWO0IN Index\", \"MXWO0IT Index\", \"MXWO0RE Index\", \"MXWO0UT Index\"]\n",
    "\n",
    "#selected index columns\n",
    "x_selected=x[selected_indices]"
   ]
  },
  {
   "cell_type": "markdown",
   "metadata": {},
   "source": [
    "## **1.  Strategic (60 months)**"
   ]
  },
  {
   "cell_type": "markdown",
   "metadata": {},
   "source": [
    "### **1.1 Strategic optimized weights and R²**"
   ]
  },
  {
   "cell_type": "code",
   "execution_count": 86,
   "metadata": {},
   "outputs": [],
   "source": [
    "# Create DataFrame\n",
    "df = pd.DataFrame(x_selected)\n",
    "\n",
    "# List of weights\n",
    "num_indices = len(selected_indices)\n",
    "\n",
    "# Initialize weights\n",
    "initial_weight = 1 / num_indices\n",
    "initialized_weights = [initial_weight] * num_indices\n",
    "\n",
    "# Constraint: sum of weights is 1\n",
    "constraint = ({'type': 'eq', 'fun': lambda w: np.sum(w) - 1})\n",
    "\n",
    "# Bounds: each weight should be between 0 and 1\n",
    "bounds = [(0, 1) for _ in range(num_indices)]\n",
    "\n",
    "# Initial guess for weights\n",
    "initial_guess = initialized_weights\n",
    "\n",
    "# Perform optimization\n",
    "result = minimize(EV, initial_guess, args=(x_selected.values, y),\n",
    "                  method='SLSQP', bounds=bounds, constraints=constraint)\n",
    "\n",
    "# Extract optimized weights\n",
    "optimized_weights = result.x\n",
    "\n",
    "# Calculate optimized style returns and errors separately\n",
    "optimized_style_returns = np.dot(x_selected.values, optimized_weights)\n",
    "optimized_errors = y - optimized_style_returns\n",
    "\n",
    "# R-squared\n",
    "FV = np.var(y)\n",
    "EV_opt = EV(optimized_weights, x_selected.values, y)\n",
    "r_squared = 1 - (EV_opt / FV)\n",
    "\n",
    "# Create a DataFrame with optimized weights and corresponding index names\n",
    "optimized_weights_df = pd.DataFrame({'Indices': selected_indices, \n",
    "                                     'Style Weight': optimized_weights})"
   ]
  },
  {
   "cell_type": "markdown",
   "metadata": {},
   "source": [
    "\n",
    "\n",
    "<details>\n",
    "\n",
    "<summary>Code for table</summary>\n",
    "\n",
    "```python\n",
    "# Sort DataFrame by the 'Style Weight' column in descending order\n",
    "optimized_weights_df = optimized_weights_df.sort_values(by='Style Weight', ascending=False)\n",
    "\n",
    "# Create a Rich Table\n",
    "table = Table(title='Strategic Results', box=box.ROUNDED, caption='Geographic indices')\n",
    "\n",
    "# Add columns to the table in the desired order\n",
    "table.add_column(\"Indices\", justify=\"right\")\n",
    "table.add_column(\"Style Weight\", justify=\"left\")  \n",
    "\n",
    "\n",
    "# Add rows to the table\n",
    "for _, row in optimized_weights_df.iterrows():\n",
    "    # Format 'Style Weight' column to show in scientific notation with 5 digits\n",
    "    style_weight_value = row['Style Weight']\n",
    "    style_weight_formatted = f\"[cyan]{style_weight_value:.5e}[/cyan]\" if style_weight_value > 0 else f\"{style_weight_value:.5e}\"\n",
    "    row_values = [row[\"Indices\"], style_weight_formatted]  # Add other columns as needed\n",
    "    table.add_row(*row_values)\n",
    "\n",
    "# Create a separate Rich Table for R-squared value\n",
    "rsquared_table = Table(box=box.ROUNDED, title='R²', show_header=False)\n",
    "\n",
    "# Add row to the R-squared table\n",
    "rsquared_table.add_row(f\"[cyan bold]{r_squared:.4f}[/cyan bold]\")\n",
    "\n",
    "\n",
    "# Print the table using Rich\n",
    "console = Console()\n",
    "console.print(table)\n",
    "console.print(rsquared_table)\n",
    "\n",
    "\n",
    "```\n",
    "\n",
    "</details>\n"
   ]
  },
  {
   "cell_type": "markdown",
   "metadata": {},
   "source": [
    "<pre style=\"white-space:pre;overflow-x:auto;line-height:normal;font-family:Menlo,'DejaVu Sans Mono',consolas,'Courier New',monospace\"><span style=\"font-style: italic\">        Strategic Results        </span>\n",
    "╭────────────────┬──────────────╮\n",
    "│<span style=\"font-weight: bold\">        Indices </span>│<span style=\"font-weight: bold\"> Style Weight </span>│\n",
    "├────────────────┼──────────────┤\n",
    "│  MXWO0CS Index │ <span style=\"color: #008080; text-decoration-color: #008080\">3.59956e-01</span>  │\n",
    "│  MXWO0HC Index │ <span style=\"color: #008080; text-decoration-color: #008080\">2.25430e-01</span>  │\n",
    "│  MXWO0TC Index │ <span style=\"color: #008080; text-decoration-color: #008080\">2.00558e-01</span>  │\n",
    "│ MXWO000G Index │ <span style=\"color: #008080; text-decoration-color: #008080\">1.18174e-01</span>  │\n",
    "│  MXWO0UT Index │ <span style=\"color: #008080; text-decoration-color: #008080\">7.20854e-02</span>  │\n",
    "│  MXWO0MT Index │ <span style=\"color: #008080; text-decoration-color: #008080\">2.37967e-02</span>  │\n",
    "│ MXWO000V Index │ <span style=\"color: #008080; text-decoration-color: #008080\">6.53626e-16</span>  │\n",
    "│  MXWO0RE Index │ <span style=\"color: #008080; text-decoration-color: #008080\">3.41738e-16</span>  │\n",
    "│  MXWO0CD Index │ 0.00000e+00  │\n",
    "│  MXWO0IT Index │ 0.00000e+00  │\n",
    "╰────────────────┴──────────────╯\n",
    "<span style=\"color: #7f7f7f; text-decoration-color: #7f7f7f; font-style: italic\">       Geographic indices        </span>\n",
    "</pre>\n",
    "<pre style=\"white-space:pre;overflow-x:auto;line-height:normal;font-family:Menlo,'DejaVu Sans Mono',consolas,'Courier New',monospace\"><span style=\"font-style: italic\">    R²    </span>\n",
    "╭────────╮\n",
    "│ <span style=\"color: #008080; text-decoration-color: #008080; font-weight: bold\">0.6292</span> │\n",
    "╰────────╯\n",
    "</pre>\n"
   ]
  },
  {
   "cell_type": "markdown",
   "metadata": {},
   "source": [
    "### **1.2 Plotting strategic results**"
   ]
  },
  {
   "cell_type": "markdown",
   "metadata": {},
   "source": [
    "<details>\n",
    "\n",
    "<summary>Code for figure</summary>\n",
    "\n",
    "```python\n",
    "\n",
    "labels = selected_indices\n",
    "values = optimized_weights\n",
    "\n",
    "fig = go.Figure(data=[go.Pie(labels=labels, values=values, \n",
    "                             textinfo='percent+label', \n",
    "                             hoverinfo='label+percent', \n",
    "                             marker=dict(colors=px.colors.qualitative.Bold),\n",
    "                             textposition='inside', hole=0.3)])\n",
    "\n",
    "fig.update_layout(\n",
    "    title='<b>Strategic Style Analysis</b>',\n",
    "    title_font=dict(size=20, family='Arial', color='black'),\n",
    "    annotations=[dict(text='Sector', font=dict(size=14, family='Arial', color='black'),\n",
    "                      showarrow=False, x=0.5, y=0.5)],\n",
    "    height=600,  \n",
    "    width=600, \n",
    "    showlegend=False,\n",
    "    title_x=0.5\n",
    ")\n",
    "\n",
    "\n",
    "fig.show()\n",
    "fig.write_image(\"str2.png\", format=\"png\", width=600, height=600, scale=3)\n",
    "```\n",
    "\n",
    "</details>\n",
    "\n",
    "![](str2.png)\n",
    "\n",
    "\n"
   ]
  },
  {
   "cell_type": "markdown",
   "metadata": {},
   "source": [
    "   The fund's strategic composition exhibits a pronounced tilt towards specific sectors, with a notable emphasis on consumer staples, healthcare, and telecommunication sectors. The low weight on the broad MSCI World Index (MXWO000V) suggests a deviation from a purely market-cap-weighted approach, indicating active management decisions. The R² value implies that a significant portion of the fund's returns can be explained by the chosen sectoral indices, indicating a strong influence of sector factors on the fund's performance.\n"
   ]
  },
  {
   "cell_type": "markdown",
   "metadata": {},
   "source": [
    "## **2. Rolling (25 periods of 36 months each)**\n"
   ]
  },
  {
   "cell_type": "markdown",
   "metadata": {},
   "source": [
    "### **2.1 Rolling optimized weights and R²**"
   ]
  },
  {
   "cell_type": "code",
   "execution_count": 87,
   "metadata": {},
   "outputs": [],
   "source": [
    "# Function to get effective weights and optimized EV for a rolling window\n",
    "def get_effective_weights_and_EV(x, y, window_size):\n",
    "    effective_weights_list = []\n",
    "    optimized_EV_list = []\n",
    "    r_squared_list = []\n",
    "\n",
    "    for i in range(len(x) - window_size + 1):\n",
    "        # Extract data for the current window\n",
    "        x_window = x.iloc[i:i+window_size]\n",
    "        y_window = y.iloc[i:i+window_size]\n",
    "\n",
    "        # Initialize weights\n",
    "        num_indices = len(x_window.columns)\n",
    "        initial_weight = 1 / num_indices\n",
    "        initialized_weights = [initial_weight for _ in range(num_indices)]\n",
    "\n",
    "        # Constraint: sum of weights is 1\n",
    "        constraint = ({'type': 'eq', 'fun': lambda w: np.sum(w) - 1})\n",
    "\n",
    "        # Bounds: each weight should be between 0 and 1\n",
    "        bounds = [(0, 1) for _ in range(len(initialized_weights))]\n",
    "\n",
    "        # Initial guess for weights\n",
    "        initial_guess = initialized_weights\n",
    "\n",
    "        # Perform optimization for the current window\n",
    "        result = minimize(EV, initial_guess, args=(x_window.values, y_window),\n",
    "                          method='SLSQP', bounds=bounds, constraints=constraint)\n",
    "\n",
    "        # Extract optimized weights and EV\n",
    "        optimized_weights = result.x\n",
    "        optimized_EV = EV(optimized_weights, x_window.values, y_window)\n",
    "\n",
    "        # Calculate FV for the current window\n",
    "        current_FV = np.var(y_window)\n",
    "\n",
    "        effective_weights_list.append(optimized_weights)\n",
    "        optimized_EV_list.append(optimized_EV)\n",
    "        r_squared_list.append(1 - (optimized_EV / current_FV))\n",
    "\n",
    "    return pd.DataFrame(effective_weights_list,\n",
    "                        columns=x.columns), optimized_EV_list, r_squared_list\n",
    "\n",
    "# Set the rolling window size\n",
    "window_size = 36\n",
    "\n",
    "# Get effective weights, optimized EV, and Rsquared for each rolling window\n",
    "effective_weights_df, optimized_EV_list, r_squared_list = get_effective_weights_and_EV(x_selected, y, window_size)\n",
    "ef_head=effective_weights_df.head()"
   ]
  },
  {
   "cell_type": "markdown",
   "metadata": {},
   "source": [
    "<details>\n",
    "\n",
    "<summary>Code for table</summary>\n",
    "\n",
    "```python\n",
    "table = Table(title='Geographic Rolling Weights', box=box.SIMPLE_HEAD, caption='First 5 rolling windows')\n",
    "\n",
    "# Add columns to the table\n",
    "for column in ef_head.columns:\n",
    "    table.add_column(column, justify=\"center\")\n",
    "\n",
    "# Add a new column for the first 5 values of R-squared\n",
    "table.add_column(\"R²\", justify=\"center\")\n",
    "\n",
    "# Add rows to the table\n",
    "for i, (index, row) in enumerate(ef_head.iterrows()):\n",
    "    # Add row values\n",
    "    values = [f\"{value:.4f}\" for value in row[ef_head.columns]]\n",
    "    \n",
    "    # Add R-squared value as a new column\n",
    "    values.append(f\"{r_squared_list[i]:.4f}\")\n",
    "\n",
    "    # Add the row to the table\n",
    "    table.add_row(*values)\n",
    "\n",
    "    # Break after adding the first 5 rows\n",
    "    if i == 4:\n",
    "        break\n",
    "\n",
    "# Print the table using Rich\n",
    "console = Console()\n",
    "console.print(table)\n",
    "```\n",
    "\n",
    "</details>\n",
    "\n",
    "\n",
    "\n"
   ]
  },
  {
   "cell_type": "markdown",
   "metadata": {},
   "source": [
    "<pre style=\"white-space:pre;overflow-x:auto;line-height:normal;font-family:Menlo,'DejaVu Sans Mono',consolas,'Courier New',monospace\"><span style=\"font-style: italic\">                                            Geographic Rolling Weights                                             </span>\n",
    "                                                                                                                   \n",
    " <span style=\"font-weight: bold\"> MXWO00… </span> <span style=\"font-weight: bold\"> MXWO000G </span> <span style=\"font-weight: bold\"> MXWO0MT </span> <span style=\"font-weight: bold\"> MXWO0TC  </span> <span style=\"font-weight: bold\"> MXWO0CS </span> <span style=\"font-weight: bold\"> MXWO0CD  </span> <span style=\"font-weight: bold\"> MXWO0HC </span> <span style=\"font-weight: bold\"> MXWO0IT  </span> <span style=\"font-weight: bold\"> MXWO0UT </span> <span style=\"font-weight: bold\"> MXWO0RE  </span> <span style=\"font-weight: bold\">        </span> \n",
    " <span style=\"font-weight: bold\">  Index  </span> <span style=\"font-weight: bold\">  Index   </span> <span style=\"font-weight: bold\">  Index  </span> <span style=\"font-weight: bold\">  Index   </span> <span style=\"font-weight: bold\">  Index  </span> <span style=\"font-weight: bold\">  Index   </span> <span style=\"font-weight: bold\">  Index  </span> <span style=\"font-weight: bold\">  Index   </span> <span style=\"font-weight: bold\">  Index  </span> <span style=\"font-weight: bold\">  Index   </span> <span style=\"font-weight: bold\">   R²   </span> \n",
    " ───────────────────────────────────────────────────────────────────────────────────────────────────────────────── \n",
    "  0.0000     0.1648    0.0412     0.1232    0.3759     0.0000    0.2353     0.0000    0.0595     0.0000    0.5583  \n",
    "  0.0000     0.0557    0.0361     0.2105    0.4180     0.0000    0.2368     0.0000    0.0428     0.0000    0.5282  \n",
    "  0.0000     0.0458    0.0212     0.2052    0.3982     0.0000    0.2716     0.0000    0.0581     0.0000    0.5224  \n",
    "  0.0000     0.1787    0.0000     0.1993    0.3670     0.0000    0.2551     0.0000    0.0000     0.0000    0.4851  \n",
    "  0.0000     0.1586    0.0000     0.2242    0.3811     0.0000    0.2362     0.0000    0.0000     0.0000    0.5337  \n",
    "                                                                                                                   \n",
    "<span style=\"color: #7f7f7f; text-decoration-color: #7f7f7f; font-style: italic\">                                              First 5 rolling windows                                              </span>\n",
    "</pre>\n"
   ]
  },
  {
   "cell_type": "markdown",
   "metadata": {},
   "source": [
    "### **2.2 Plotting rolling results**"
   ]
  },
  {
   "cell_type": "markdown",
   "metadata": {},
   "source": [
    "<details>\n",
    "\n",
    "<summary>Code for table</summary>\n",
    "\n",
    "```python\n",
    "# Create a Plotly subplot with dual-y axis plot\n",
    "fig = make_subplots(specs=[[{\"secondary_y\": True}]])\n",
    "\n",
    "# Set a bold color palette\n",
    "bold_colors = px.colors.qualitative.Bold\n",
    "\n",
    "# Plot 100% stacked area chart for effective weights\n",
    "for col, color in zip(effective_weights_df.columns, bold_colors):\n",
    "    fill_color_lighter = f'rgba{color[3:-1]},0.6)'  # Make fill color lighter (adjust 0.5 for opacity)\n",
    "    fig.add_trace(go.Scatter(x=effective_weights_df.index, y=effective_weights_df[col],\n",
    "                             mode='lines', stackgroup='one', name=col,\n",
    "                             fillcolor=fill_color_lighter, fill='tonexty', line=dict(color=color)))\n",
    "\n",
    "# Set layout for the first y-axis\n",
    "fig.update_yaxes(title_text='Weights', secondary_y=False)\n",
    "\n",
    "# Plot line chart for R-squared on the second y-axis\n",
    "fig.add_trace(go.Scatter(x=effective_weights_df.index, y=r_squared_list,\n",
    "                         mode='lines', name='R²', line=dict(dash='dash', color='black')), secondary_y=True)\n",
    "\n",
    "# Set layout for the second y-axis\n",
    "fig.update_yaxes(title_text='R²', secondary_y=True)\n",
    "\n",
    "# Set layout for the x-axis\n",
    "fig.update_xaxes(title_text='Time')\n",
    "\n",
    "# Set layout for the entire figure\n",
    "fig.update_layout(title_text='<b>Weights and R² Over Time</b>',\n",
    "                  height=600, width=1000, showlegend=True, title_x=0.5, title_font=dict(size=20, family='Arial', color='black'),\n",
    ")\n",
    "\n",
    "# Show the plot\n",
    "fig.show()\n",
    "```\n",
    "\n",
    "</details>\n",
    "\n",
    "![](rol2.png)\n",
    "\n"
   ]
  },
  {
   "cell_type": "markdown",
   "metadata": {},
   "source": [
    "The effective weights fluctuate across different indices and time periods, suggesting dynamic portfolio allocation.Some indices consistently maintain non-zero weights, indicating their enduring relevance in the portfolio. Indices such as \"MXWO0CS,\" \"MXWO0HC,\" and \"MXWO0TC\" consistently have notable weights, indicating a sustained allocation to consumer staples, healthcare, and telecommunication sectors, respectively. Some indices, such as \"MXWO0CS,\" \"MXWO0HC,\" and \"MXWO0TC,\" consistently have non-zero weights, reflecting a strategic and persistent allocation to these sectors. Indices like \"MXWO0CD\" and \"MXWO0IT\" consistently have zero weights, suggesting an intentional exclusion or underweighting of the consumer discretionary and information technology sectors during the analyzed periods. Overall, the portfolio seems to have dynamic and changing weights over the periods, indicating an active management approach in response to market conditions or strategy adjustments. Even indices with relatively small weights may contribute meaningfully to the portfolio, especially if they consistently maintain a positive allocation. The R-squared is in line with these dynamics, and shows in the beginning a really low explanation power, and only after reaching the maximum of 70% seems to stabilize."
   ]
  },
  {
   "cell_type": "markdown",
   "metadata": {},
   "source": [
    "## **3.  Tactical (last months)**"
   ]
  },
  {
   "cell_type": "markdown",
   "metadata": {},
   "source": [
    "### **3.1 Tactical optimized weights and R²**"
   ]
  },
  {
   "cell_type": "code",
   "execution_count": 88,
   "metadata": {},
   "outputs": [],
   "source": [
    "# Assuming you have a list of weights\n",
    "num_indices = len(x_selected.columns)\n",
    "\n",
    "# Initialize weights\n",
    "initial_weight = 1 / num_indices\n",
    "initialized_weights = [initial_weight for _ in range(num_indices)]\n",
    "\n",
    "# Extract the last 52 months data\n",
    "last_months_data = x_selected.tail(8)\n",
    "y_last_months = y.tail(8)\n",
    "\n",
    "# Constraint: sum of weights is 1\n",
    "constraint = ({'type': 'eq', 'fun': lambda w: np.sum(w) - 1})\n",
    "\n",
    "# Bounds: each weight should be between 0 and 1\n",
    "bounds = [(0, 1) for _ in range(len(initialized_weights))]\n",
    "\n",
    "# Initial guess for weights\n",
    "initial_guess = initialized_weights\n",
    "\n",
    "# Perform optimization for the last 52 months\n",
    "result = minimize(EV, initial_guess, args=(last_months_data.values, y_last_months), \n",
    "                  method='SLSQP', bounds=bounds, constraints=constraint)\n",
    "\n",
    "# Extract optimized weights\n",
    "optimized_weights = result.x\n",
    "#R-squared\n",
    "FV = np.var(y_last_months)\n",
    "EV_opt = EV(optimized_weights, last_months_data.values, y_last_months)\n",
    "r_squared=1-(EV_opt/FV)\n",
    "\n",
    "\n",
    "# Create a DataFrame with optimized weights and corresponding index names\n",
    "optimized_weights_df = pd.DataFrame({'Indices': selected_indices,\n",
    "                                     'Style Weight': optimized_weights})\n"
   ]
  },
  {
   "cell_type": "markdown",
   "metadata": {},
   "source": [
    "<details>\n",
    "\n",
    "<summary>Code for table</summary>\n",
    "\n",
    "```python\n",
    "# Sort DataFrame by the 'Style Weight' column in descending order\n",
    "optimized_weights_df = optimized_weights_df.sort_values(by='Style Weight', ascending=False)\n",
    "\n",
    "# Create a Rich Table\n",
    "table = Table(title='Tactical Results', box=box.ROUNDED)\n",
    "\n",
    "# Add columns to the table in the desired order\n",
    "table.add_column(\"Indices\", justify=\"right\")\n",
    "table.add_column(\"Style Weight\", justify=\"left\")  \n",
    "\n",
    "\n",
    "# Add rows to the table\n",
    "for _, row in optimized_weights_df.iterrows():\n",
    "    # Format 'Style Weight' column to show in scientific notation with 5 digits\n",
    "    style_weight_value = row['Style Weight']\n",
    "    style_weight_formatted = f\"[cyan]{style_weight_value:.5e}[/cyan]\" if style_weight_value > 0 else f\"{style_weight_value:.5e}\"\n",
    "    row_values = [row[\"Indices\"], style_weight_formatted]  # Add other columns as needed\n",
    "    table.add_row(*row_values)\n",
    "\n",
    "# Create a separate Rich Table for R-squared value\n",
    "rsquared_table = Table(box=box.ROUNDED, title='R²', show_header=False)\n",
    "\n",
    "# Add row to the R-squared table\n",
    "rsquared_table.add_row(f\"[cyan bold]{r_squared:.4f}[/cyan bold]\")\n",
    "\n",
    "\n",
    "# Print the table using Rich\n",
    "console = Console()\n",
    "console.print(table)\n",
    "console.print(rsquared_table)\n",
    "```\n",
    "\n",
    "</details>\n",
    "\n",
    "\n",
    "\n",
    "\n"
   ]
  },
  {
   "cell_type": "markdown",
   "metadata": {},
   "source": [
    "<pre style=\"white-space:pre;overflow-x:auto;line-height:normal;font-family:Menlo,'DejaVu Sans Mono',consolas,'Courier New',monospace\"><span style=\"font-style: italic\">        Tactical Results         </span>\n",
    "╭────────────────┬──────────────╮\n",
    "│<span style=\"font-weight: bold\">        Indices </span>│<span style=\"font-weight: bold\"> Style Weight </span>│\n",
    "├────────────────┼──────────────┤\n",
    "│  MXWO0HC Index │ <span style=\"color: #008080; text-decoration-color: #008080\">3.68755e-01</span>  │\n",
    "│  MXWO0CS Index │ <span style=\"color: #008080; text-decoration-color: #008080\">2.62246e-01</span>  │\n",
    "│  MXWO0RE Index │ <span style=\"color: #008080; text-decoration-color: #008080\">1.69502e-01</span>  │\n",
    "│  MXWO0IT Index │ <span style=\"color: #008080; text-decoration-color: #008080\">1.27666e-01</span>  │\n",
    "│  MXWO0TC Index │ <span style=\"color: #008080; text-decoration-color: #008080\">7.18300e-02</span>  │\n",
    "│  MXWO0CD Index │ <span style=\"color: #008080; text-decoration-color: #008080\">3.72633e-16</span>  │\n",
    "│  MXWO0UT Index │ <span style=\"color: #008080; text-decoration-color: #008080\">9.91159e-17</span>  │\n",
    "│ MXWO000G Index │ <span style=\"color: #008080; text-decoration-color: #008080\">6.84140e-17</span>  │\n",
    "│ MXWO000V Index │ 0.00000e+00  │\n",
    "│  MXWO0MT Index │ 0.00000e+00  │\n",
    "╰────────────────┴──────────────╯\n",
    "</pre>\n",
    "<pre style=\"white-space:pre;overflow-x:auto;line-height:normal;font-family:Menlo,'DejaVu Sans Mono',consolas,'Courier New',monospace\"><span style=\"font-style: italic\">    R²    </span>\n",
    "╭────────╮\n",
    "│ <span style=\"color: #008080; text-decoration-color: #008080; font-weight: bold\">0.8726</span> │\n",
    "╰────────╯\n",
    "</pre>\n"
   ]
  },
  {
   "cell_type": "markdown",
   "metadata": {},
   "source": [
    "### **3.2 Plotting tactical results**"
   ]
  },
  {
   "cell_type": "markdown",
   "metadata": {},
   "source": [
    "<details>\n",
    "\n",
    "<summary>Code for figure</summary>\n",
    "\n",
    "```python\n",
    "labels = selected_indices\n",
    "values = optimized_weights\n",
    "\n",
    "fig = go.Figure(data=[go.Pie(labels=labels, values=values, \n",
    "                             textinfo='percent+label', \n",
    "                             hoverinfo='label+percent', \n",
    "                             marker=dict(colors=px.colors.qualitative.Bold),\n",
    "                             textposition='inside', hole=0.3)])\n",
    "\n",
    "fig.update_layout(\n",
    "    title='<b>Tactical Style Analysis</b>',\n",
    "    title_font=dict(size=20, family='Arial', color='black'),\n",
    "    annotations=[dict(text='Sector', font=dict(size=14, family='Arial', color='black'),\n",
    "                      showarrow=False, x=0.5, y=0.5)],\n",
    "    height=600,  \n",
    "    width=600, \n",
    "    showlegend=False,\n",
    "    title_x=0.5\n",
    ")\n",
    "\n",
    "\n",
    "fig.show()\n",
    "\n",
    "```\n",
    "\n",
    "</details>\n",
    "\n",
    "![](tac2.png)"
   ]
  },
  {
   "cell_type": "markdown",
   "metadata": {},
   "source": [
    "The strategic and tactical results complement each other, providing a comprehensive view of the portfolio's allocation strategy.\n",
    "The tactical model, with higher R², appears to have been more effective in explaining the portfolio's actual performance during the analyzed period, suggesting that short-term tactical decisions played a significant role.\n",
    "Understanding both strategic and tactical aspects is crucial for a well-rounded assessment of the portfolio's composition and performance. Monitoring changes in market conditions and adjusting the strategy accordingly is essential for successful portfolio management."
   ]
  },
  {
   "cell_type": "markdown",
   "metadata": {},
   "source": [
    "## **B) Risk-Return Plane**\n",
    "\n",
    "### **1. Covariance**"
   ]
  },
  {
   "cell_type": "markdown",
   "metadata": {},
   "source": [
    "An efficient frontier is a way to determine how to weight portfolio of specified stocks or securities to maximize the return at a given level of risk. Hence, before drawing the efficient frontier it useful to plot the returns over time and compare it to each other."
   ]
  },
  {
   "cell_type": "code",
   "execution_count": 89,
   "metadata": {},
   "outputs": [],
   "source": [
    "# Calculate covariance matrix, expected returns, and volatility\n",
    "covariance_matrix = np.cov(returns, rowvar=False)\n",
    "expected_returns = np.mean(returns, axis=0)\n",
    "volatility = np.std(returns, axis=0)\n",
    "\n",
    "names=returns.columns\n",
    "column_names = [name.replace(' Index', '') for name in names]\n",
    "\n",
    "covariance_df = pd.DataFrame(covariance_matrix, columns=column_names, index=column_names)"
   ]
  },
  {
   "cell_type": "markdown",
   "metadata": {},
   "source": [
    "<details>\n",
    "\n",
    "<summary>Code for table</summary>\n",
    "\n",
    "```python\n",
    "stats_table = Table(title='Expected Returns and Volatility', box=box.ROUNDED)\n",
    "# Add columns to the table\n",
    "stats_table.add_column(\"\", justify=\"left\", style=\"dim\")\n",
    "for asset in returns.columns:\n",
    "    stats_table.add_column(asset, justify=\"center\")\n",
    "# Add rows to the table\n",
    "stats_table.add_row(\"ER\", *[f\"{exp_ret:.4f}\" for exp_ret in expected_returns])\n",
    "stats_table.add_row(\"Risk\", *[f\"{vol:.4f}\" for vol in volatility])\n",
    "\n",
    "console.print(stats_table)\n",
    "```\n",
    "\n",
    "</details>\n",
    "\n",
    "\n",
    "\n",
    "\n"
   ]
  },
  {
   "cell_type": "markdown",
   "metadata": {},
   "source": [
    "<pre style=\"white-space:pre;overflow-x:auto;line-height:normal;font-family:Menlo,'DejaVu Sans Mono',consolas,'Courier New',monospace\"><span style=\"font-style: italic\">                                          Expected Returns and Volatility                                          </span>\n",
    "╭──────┬──────────┬──────────┬──────────┬──────────┬──────────┬─────────┬──────────┬─────────┬──────────┬─────────╮\n",
    "│<span style=\"font-weight: bold\">      </span>│<span style=\"font-weight: bold\"> I00039EU </span>│<span style=\"font-weight: bold\"> I31914EU </span>│<span style=\"font-weight: bold\"> I00001EU </span>│<span style=\"font-weight: bold\"> LE57TREU </span>│<span style=\"font-weight: bold\"> I00163EU </span>│<span style=\"font-weight: bold\"> I04276… </span>│<span style=\"font-weight: bold\">  MXEUG   </span>│<span style=\"font-weight: bold\">  MXUS   </span>│<span style=\"font-weight: bold\">  MSERP   </span>│<span style=\"font-weight: bold\">  MXGB   </span>│\n",
    "│<span style=\"font-weight: bold\">      </span>│<span style=\"font-weight: bold\">  Index   </span>│<span style=\"font-weight: bold\">  Index   </span>│<span style=\"font-weight: bold\">  Index   </span>│<span style=\"font-weight: bold\">  Index   </span>│<span style=\"font-weight: bold\">  Index   </span>│<span style=\"font-weight: bold\">  Index  </span>│<span style=\"font-weight: bold\">  Index   </span>│<span style=\"font-weight: bold\">  Index  </span>│<span style=\"font-weight: bold\">  Index   </span>│<span style=\"font-weight: bold\">  Index  </span>│\n",
    "├──────┼──────────┼──────────┼──────────┼──────────┼──────────┼─────────┼──────────┼─────────┼──────────┼─────────┤\n",
    "│<span style=\"color: #7f7f7f; text-decoration-color: #7f7f7f\"> ER   </span>│  0.3128  │  0.3107  │  0.1810  │ -0.1271  │ -0.0256  │ 0.1933  │  0.4466  │ 0.9296  │  0.1754  │ 0.1634  │\n",
    "│<span style=\"color: #7f7f7f; text-decoration-color: #7f7f7f\"> Risk </span>│  2.5876  │  2.0415  │  1.9016  │  1.4486  │  1.8515  │ 2.1611  │  4.7104  │ 5.0348  │  4.0040  │ 4.7072  │\n",
    "╰──────┴──────────┴──────────┴──────────┴──────────┴──────────┴─────────┴──────────┴─────────┴──────────┴─────────╯\n",
    "</pre>\n"
   ]
  },
  {
   "cell_type": "markdown",
   "metadata": {},
   "source": [
    "It seems thta the MXUS index provides the highest expected return, but naturally that comes along with the highest risk. Meanwhile, the least risky asset with a positive expected return is the I00001EU, which demonstrates just one fifth of the MXUS retruns. These values are essential for constructing a well-balanced portfolio and to achieve the desired risk-return profile."
   ]
  },
  {
   "cell_type": "code",
   "execution_count": 90,
   "metadata": {},
   "outputs": [
    {
     "data": {
      "image/png": "[encoded data removed]",
      "text/plain": [
       "<Figure size 1200x800 with 2 Axes>"
      ]
     },
     "metadata": {
      "image/png": {
       "height": 802,
       "width": 1074
      }
     },
     "output_type": "display_data"
    }
   ],
   "source": [
    "# Plot the covariance matrix heatmap\n",
    "plt.figure(figsize=(12, 8))\n",
    "sns.heatmap(covariance_df, annot=True, cmap='coolwarm', fmt='.4f', linewidths=.5)\n",
    "plt.title('Covariance Matrix Heatmap')\n",
    "plt.show()"
   ]
  },
  {
   "cell_type": "markdown",
   "metadata": {},
   "source": [
    "Only the I00039EU has a positive covariance with all other assets, indicating a generally positive relationship with the rest of the portfolio. These strong positive covariances are suggetsing potential diversification benefits. On the orther hand, assets with negative covariances may act as hedges against each other.Overall, the MXEUG, MXUS, MSERP and MXGB indices are having the strongest postive realitionship with each other, which hugely differ from the rest.\n",
    "\n"
   ]
  },
  {
   "cell_type": "markdown",
   "metadata": {},
   "source": [
    "### **2. Efficient Frontier**"
   ]
  },
  {
   "cell_type": "markdown",
   "metadata": {},
   "source": [
    "These index characteristics are going to be to base to create the efficient frontier. The goal is to choose a portfolio that lies on the efficient frontier, as it represents the optimal trade-off between risk and return. These optimal points are calculated based on the expected returns, covariance matrix and the assigned weights. "
   ]
  },
  {
   "cell_type": "code",
   "execution_count": 91,
   "metadata": {},
   "outputs": [
    {
     "name": "stderr",
     "output_type": "stream",
     "text": [
      "C:\\Users\\blank\\AppData\\Local\\Temp\\ipykernel_30068\\1203775667.py:28: FutureWarning:\n",
      "\n",
      "Series.__getitem__ treating keys as positions is deprecated. In a future version, integer keys will always be treated as labels (consistent with DataFrame behavior). To access a value by position, use `ser.iloc[pos]`\n",
      "\n"
     ]
    }
   ],
   "source": [
    "# Function to calculate portfolio returns and volatility\n",
    "def calculate_portfolio_performance(weights, expected_returns, covariance_matrix):\n",
    "    portfolio_return = np.dot(expected_returns, weights)\n",
    "    portfolio_volatility = np.sqrt(np.dot(weights.T, np.dot(covariance_matrix, weights)))\n",
    "    return portfolio_return, portfolio_volatility\n",
    "\n",
    "# Objective function for minimization (negative returns to maximize returns)\n",
    "def objective_function(weights, expected_returns, covariance_matrix):\n",
    "    return -calculate_portfolio_performance(weights, expected_returns, covariance_matrix)[0]\n",
    "\n",
    "# Constraints: weights sum to 1\n",
    "constraints = ({'type': 'eq', 'fun': lambda weights: np.sum(weights) - 1})\n",
    "\n",
    "# Bounds: weights between 0 and 1\n",
    "bounds = tuple((0, 1) for _ in range(len(expected_returns)))\n",
    "\n",
    "initial_weights = np.ones(len(expected_returns)) / len(expected_returns)\n",
    "\n",
    "\n",
    "# Find the indices corresponding to minimum and maximum volatilities\n",
    "min_volatility_index = np.argmin(volatility)\n",
    "max_volatility_index = np.argmax(volatility)\n",
    "\n",
    "# Define the number of target portfolios\n",
    "num_target_portfolios = 100\n",
    "\n",
    "# Calculate the range of volatilities\n",
    "target_volatilities = np.linspace(volatility[min_volatility_index], volatility[max_volatility_index], num_target_portfolios)\n",
    "\n",
    "optimized_portfolios = []\n",
    "\n",
    "# Iterate over target volatilities and optimize the portfolio\n",
    "for target_volatility in target_volatilities:\n",
    "    # Constraint: Portfolio volatility is equal to the target volatility\n",
    "    volatility_constraint = {'type': 'eq', 'fun': lambda weights: target_volatility - calculate_portfolio_performance(weights, expected_returns, covariance_matrix)[1]}\n",
    "    \n",
    "    result = minimize(objective_function, initial_weights, args=(expected_returns, covariance_matrix),\n",
    "                      method='SLSQP', bounds=bounds, constraints=[constraints, volatility_constraint],\n",
    "                      options={'ftol': 1e-10, 'disp': False})\n",
    "    \n",
    "    if not result.success:\n",
    "        print(f\"Optimization failed for target volatility: {target_volatility}\")\n",
    "        continue\n",
    "    \n",
    "    optimized_portfolios.append(result.x)\n",
    "\n",
    "# Calculate returns and volatilities for optimized portfolios\n",
    "portfolio_performance = [calculate_portfolio_performance(weights, expected_returns, covariance_matrix) for weights in optimized_portfolios]\n",
    "optimized_returns, optimized_volatilities = zip(*portfolio_performance)\n",
    "\n",
    "# Create a DataFrame to display the results\n",
    "portfolio_df = pd.DataFrame({\n",
    "    'Return': optimized_returns,\n",
    "    'Risk': optimized_volatilities,\n",
    "    'Weights': optimized_portfolios\n",
    "})\n"
   ]
  },
  {
   "cell_type": "markdown",
   "metadata": {},
   "source": [
    "<details>\n",
    "\n",
    "<summary>Code for table</summary>\n",
    "\n",
    "```python\n",
    "# Split \"Weights\" list into columns and set column names\n",
    "weights_df = pd.DataFrame(portfolio_df['Weights'].tolist(), columns=column_names)\n",
    "\n",
    "# Concatenate the DataFrames\n",
    "portfolio_df = pd.concat([portfolio_df, weights_df], axis=1)\n",
    "\n",
    "# Drop the original \"Weights\" column\n",
    "portfolio_df = portfolio_df.drop('Weights', axis=1)\n",
    "\n",
    "# Function to print DataFrame as a rich table with title and caption\n",
    "def print_rich_table(df, title):\n",
    "    console = Console()\n",
    "    table = Table(title=title, box=box.ROUNDED)\n",
    "    for col in df.columns:\n",
    "        table.add_column(col)\n",
    "    for i, row in df.iterrows():\n",
    "        table.add_row(*[f'{val:.3f}' if isinstance(val, (int, float)) else str(val) for val in row])\n",
    "    \n",
    "    console.print(table)\n",
    "\n",
    "# Print the head and tail of the DataFrame using the function\n",
    "print_rich_table(portfolio_df.head(), title=\"Portfolio Head\")\n",
    "print_rich_table(portfolio_df.tail(), title=\"Portfolio Tail\")\n",
    "```\n",
    "\n",
    "</details>\n"
   ]
  },
  {
   "cell_type": "markdown",
   "metadata": {},
   "source": [
    "<pre style=\"white-space:pre;overflow-x:auto;line-height:normal;font-family:Menlo,'DejaVu Sans Mono',consolas,'Courier New',monospace\"><span style=\"font-style: italic\">                                                  Portfolio Head                                                   </span>\n",
    "╭────────┬───────┬──────────┬──────────┬──────────┬──────────┬──────────┬─────────┬───────┬───────┬───────┬───────╮\n",
    "│<span style=\"font-weight: bold\"> Return </span>│<span style=\"font-weight: bold\"> Risk  </span>│<span style=\"font-weight: bold\"> I00039EU </span>│<span style=\"font-weight: bold\"> I31914EU </span>│<span style=\"font-weight: bold\"> I00001EU </span>│<span style=\"font-weight: bold\"> LE57TREU </span>│<span style=\"font-weight: bold\"> I00163EU </span>│<span style=\"font-weight: bold\"> I04276… </span>│<span style=\"font-weight: bold\"> MXEUG </span>│<span style=\"font-weight: bold\"> MXUS  </span>│<span style=\"font-weight: bold\"> MSERP </span>│<span style=\"font-weight: bold\"> MXGB  </span>│\n",
    "├────────┼───────┼──────────┼──────────┼──────────┼──────────┼──────────┼─────────┼───────┼───────┼───────┼───────┤\n",
    "│ 0.288  │ 1.449 │ 0.000    │ 0.640    │ 0.000    │ 0.177    │ 0.000    │ 0.000   │ 0.122 │ 0.061 │ 0.000 │ 0.000 │\n",
    "│ 0.303  │ 1.485 │ 0.000    │ 0.651    │ 0.000    │ 0.156    │ 0.000    │ 0.000   │ 0.121 │ 0.072 │ 0.000 │ 0.000 │\n",
    "│ 0.319  │ 1.521 │ 0.000    │ 0.663    │ 0.000    │ 0.136    │ 0.000    │ 0.000   │ 0.119 │ 0.082 │ 0.000 │ 0.000 │\n",
    "│ 0.334  │ 1.557 │ 0.000    │ 0.674    │ 0.000    │ 0.115    │ 0.000    │ 0.000   │ 0.118 │ 0.093 │ 0.000 │ 0.000 │\n",
    "│ 0.348  │ 1.594 │ 0.000    │ 0.685    │ 0.000    │ 0.096    │ 0.000    │ 0.000   │ 0.116 │ 0.103 │ 0.000 │ 0.000 │\n",
    "╰────────┴───────┴──────────┴──────────┴──────────┴──────────┴──────────┴─────────┴───────┴───────┴───────┴───────╯\n",
    "</pre>\n",
    "<pre style=\"white-space:pre;overflow-x:auto;line-height:normal;font-family:Menlo,'DejaVu Sans Mono',consolas,'Courier New',monospace\"><span style=\"font-style: italic\">                                                  Portfolio Tail                                                   </span>\n",
    "╭────────┬───────┬──────────┬──────────┬──────────┬──────────┬──────────┬─────────┬───────┬───────┬───────┬───────╮\n",
    "│<span style=\"font-weight: bold\"> Return </span>│<span style=\"font-weight: bold\"> Risk  </span>│<span style=\"font-weight: bold\"> I00039EU </span>│<span style=\"font-weight: bold\"> I31914EU </span>│<span style=\"font-weight: bold\"> I00001EU </span>│<span style=\"font-weight: bold\"> LE57TREU </span>│<span style=\"font-weight: bold\"> I00163EU </span>│<span style=\"font-weight: bold\"> I04276… </span>│<span style=\"font-weight: bold\"> MXEUG </span>│<span style=\"font-weight: bold\"> MXUS  </span>│<span style=\"font-weight: bold\"> MSERP </span>│<span style=\"font-weight: bold\"> MXGB  </span>│\n",
    "├────────┼───────┼──────────┼──────────┼──────────┼──────────┼──────────┼─────────┼───────┼───────┼───────┼───────┤\n",
    "│ 0.907  │ 4.890 │ 0.000    │ 0.036    │ 0.000    │ 0.000    │ 0.000    │ 0.000   │ 0.000 │ 0.964 │ 0.000 │ 0.000 │\n",
    "│ 0.912  │ 4.926 │ 0.000    │ 0.029    │ 0.000    │ 0.000    │ 0.000    │ 0.000   │ 0.000 │ 0.971 │ 0.000 │ 0.000 │\n",
    "│ 0.916  │ 4.962 │ 0.000    │ 0.022    │ 0.000    │ 0.000    │ 0.000    │ 0.000   │ 0.000 │ 0.978 │ 0.000 │ 0.000 │\n",
    "│ 0.920  │ 4.999 │ 0.000    │ 0.015    │ 0.000    │ 0.000    │ 0.000    │ 0.000   │ 0.000 │ 0.985 │ 0.000 │ 0.000 │\n",
    "│ 0.925  │ 5.035 │ 0.000    │ 0.008    │ 0.000    │ 0.000    │ 0.000    │ 0.000   │ 0.000 │ 0.992 │ 0.000 │ 0.000 │\n",
    "╰────────┴───────┴──────────┴──────────┴──────────┴──────────┴──────────┴─────────┴───────┴───────┴───────┴───────╯\n",
    "</pre>\n"
   ]
  },
  {
   "cell_type": "markdown",
   "metadata": {},
   "source": [
    "While the LE57TREU and MXEUG inidices got weights in the lower risk portfolios, they got reduced to zero in the maximum return portfolios. Instead, the  MXUS got almost all the weights. The other index that is also present in the two polars is the I00039EU. Obviously, these portfolios are not very diversified, relying only on a few indices."
   ]
  },
  {
   "cell_type": "markdown",
   "metadata": {},
   "source": [
    "<details>\n",
    "\n",
    "<summary>Code for table</summary>\n",
    "\n",
    "```python\n",
    "style_weights_df = pd.DataFrame([style_weights], columns=column_names)\n",
    "style_weights_df['Return'] = [style_benchmark_expected_return]\n",
    "style_weights_df['Risk'] = [style_benchmark_risk]\n",
    "style_weights_df = style_weights_df[['Return', 'Risk'] + column_names]\n",
    "print_rich_table(style_weights_df, title=\"Style Weights\")\n",
    "```\n",
    "\n",
    "</details>\n"
   ]
  },
  {
   "cell_type": "markdown",
   "metadata": {},
   "source": [
    "<pre style=\"white-space:pre;overflow-x:auto;line-height:normal;font-family:Menlo,'DejaVu Sans Mono',consolas,'Courier New',monospace\"><span style=\"font-style: italic\">                                                   Style Weights                                                   </span>\n",
    "╭────────┬───────┬──────────┬──────────┬──────────┬──────────┬──────────┬─────────┬───────┬───────┬───────┬───────╮\n",
    "│<span style=\"font-weight: bold\"> Return </span>│<span style=\"font-weight: bold\"> Risk  </span>│<span style=\"font-weight: bold\"> I00039EU </span>│<span style=\"font-weight: bold\"> I31914EU </span>│<span style=\"font-weight: bold\"> I00001EU </span>│<span style=\"font-weight: bold\"> LE57TREU </span>│<span style=\"font-weight: bold\"> I00163EU </span>│<span style=\"font-weight: bold\"> I04276… </span>│<span style=\"font-weight: bold\"> MXEUG </span>│<span style=\"font-weight: bold\"> MXUS  </span>│<span style=\"font-weight: bold\"> MSERP </span>│<span style=\"font-weight: bold\"> MXGB  </span>│\n",
    "├────────┼───────┼──────────┼──────────┼──────────┼──────────┼──────────┼─────────┼───────┼───────┼───────┼───────┤\n",
    "│ 0.343  │ 2.558 │ 0.000    │ 0.083    │ 0.003    │ 0.357    │ 0.085    │ 0.000   │ 0.085 │ 0.343 │ 0.043 │ 0.000 │\n",
    "╰────────┴───────┴──────────┴──────────┴──────────┴──────────┴──────────┴─────────┴───────┴───────┴───────┴───────╯\n",
    "</pre>\n"
   ]
  },
  {
   "cell_type": "markdown",
   "metadata": {},
   "source": [
    "Compared to the two extemes of the frontier, the efficient frontier point for our fund is more balanced. It mostly uses the LE57TREU and MXUS indices, leaving the other a samller influence. The only negligable predictors are the I00039EU, I04276EU and MXGB indices."
   ]
  },
  {
   "cell_type": "markdown",
   "metadata": {},
   "source": [
    "<details>\n",
    "\n",
    "<summary>Code for figure</summary>\n",
    "\n",
    "```python\n",
    "import plotly.graph_objects as go\n",
    "\n",
    "# Scatter plot for individual assets\n",
    "scatter_assets = go.Scatter(\n",
    "    x=volatility,\n",
    "    y=expected_returns,\n",
    "    mode='markers+text',\n",
    "    marker=dict(color='gray', symbol='circle', size=8),\n",
    "    name='',\n",
    "    text=column_names,  # Use column names as text\n",
    "    textposition='bottom right',\n",
    "    showlegend=False\n",
    ")\n",
    "\n",
    "# Create a DataFrame for the efficient frontier\n",
    "efficient_frontier_df = pd.DataFrame({\n",
    "    'Volatility': portfolio_df['Risk'],\n",
    "    'Return': portfolio_df['Return'],\n",
    "    'Label': ['Efficient Frontier'] * len(portfolio_df)\n",
    "})\n",
    "\n",
    "# Scatter plot for efficient frontier\n",
    "scatter_efficient_frontier = go.Scatter(\n",
    "    x=efficient_frontier_df['Volatility'],\n",
    "    y=efficient_frontier_df['Return'],\n",
    "    mode='lines',\n",
    "    line=dict(color='blue', dash='dash'),\n",
    "    name='Efficient Frontier'\n",
    ")\n",
    "\n",
    "# Create a DataFrame for the fund and style benchmark\n",
    "fund_df = pd.DataFrame({\n",
    "    'Volatility': [fund_risk],\n",
    "    'Return': [fund_expected_return],\n",
    "    'Label': ['Fund']\n",
    "})\n",
    "\n",
    "style_benchmark_df = pd.DataFrame({\n",
    "    'Volatility': [style_benchmark_risk],\n",
    "    'Return': [style_benchmark_expected_return],\n",
    "    'Label': ['Style Fund']\n",
    "})\n",
    "\n",
    "# Scatter plot for fund and style benchmark\n",
    "scatter_fund = go.Scatter(\n",
    "    x=fund_df['Volatility'],\n",
    "    y=fund_df['Return'],\n",
    "    mode='markers',\n",
    "    marker=dict(color='green', symbol='star', size=12),\n",
    "    name='Fund'\n",
    ")\n",
    "\n",
    "scatter_style_benchmark = go.Scatter(\n",
    "    x=style_benchmark_df['Volatility'],\n",
    "    y=style_benchmark_df['Return'],\n",
    "    mode='markers',\n",
    "    marker=dict(color='orange', symbol='star', size=12),\n",
    "    name='Style Fund'\n",
    ")\n",
    "\n",
    "# Create the figure\n",
    "fig = go.Figure()\n",
    "\n",
    "# Add traces to the figure\n",
    "fig.add_trace(scatter_assets)\n",
    "fig.add_trace(scatter_efficient_frontier)\n",
    "fig.add_trace(scatter_fund)\n",
    "fig.add_trace(scatter_style_benchmark)\n",
    "\n",
    "# Customize the layout\n",
    "fig.update_layout(\n",
    "    title='Efficient Frontier with Individual Assets',\n",
    "    xaxis_title='Volatility',\n",
    "    yaxis_title='Return',\n",
    "    legend=dict(title='Assets', traceorder='reversed'),\n",
    "    title_x=0.5, title_font=dict(size=20, color='black')\n",
    ")\n",
    "\n",
    "# Show the plot\n",
    "fig.show()\n",
    "\n",
    "\n",
    "```\n",
    "\n",
    "</details>\n",
    "\n",
    "![](eff1.png)\n",
    "\n"
   ]
  },
  {
   "cell_type": "markdown",
   "metadata": {},
   "source": [
    "The fund's position with regard to the efficient frontier indicates that it can be more efficient in terms of risk and return. Naturally, the goal of the optimized weights did was to bring the fund closer the efficient frontier. It is located around the I00039EU index, being closer to the low volatility and high return portfolios. Only the MXUS index stands out, overperforming other indices with around the same high volatilites. So, overall, realtive to other benchmarks, the fund is performing well. "
   ]
  },
  {
   "cell_type": "markdown",
   "metadata": {},
   "source": [
    "## **Conclusion**"
   ]
  },
  {
   "cell_type": "markdown",
   "metadata": {},
   "source": [
    "In summary, the style analysis conducted provides valuable insights into the investment strategy and performance attribution of the portfolio. Through a thorough examination of factor exposures and returns, we have identified the predominant investment styles that contribute to the portfolio's overall performance.\n",
    "\n",
    "The portfolio exhibits a discernible tilt towards certain factors, indicating a deliberate stylistic approach. Our analysis highlights the impact of these factors on returns, shedding light on the sources of alpha and beta. Understanding the style characteristics of the portfolio is crucial for both investors and fund managers to make informed decisions aligned with their investment objectives.\n",
    "\n",
    "Moreover, the comparison with a relevant style benchmark allows for a comprehensive assessment of the portfolio's relative performance. Evaluating how well the portfolio captures desired styles or deviates from the benchmark provides crucial insights into the effectiveness of the investment strategy.\n",
    "\n",
    "As always, it's essential to consider the broader market context and economic conditions that may influence style dynamics. This report serves as a foundation for ongoing monitoring and adjustment of the portfolio to align with changing market conditions and investor preferences.\n",
    "\n",
    "In conclusion, the style analysis not only deepens our understanding of the portfolio's composition but also serves as a valuable tool for refining investment strategies and optimizing risk-return profiles."
   ]
  }
 ],
 "metadata": {
  "kernelspec": {
   "display_name": "Python 3",
   "language": "python",
   "name": "python3"
  },
  "language_info": {
   "codemirror_mode": {
    "name": "ipython",
    "version": 3
   },
   "file_extension": ".py",
   "mimetype": "text/x-python",
   "name": "python",
   "nbconvert_exporter": "python",
   "pygments_lexer": "ipython3",
   "version": "3.11.5"
  }
 },
 "nbformat": 4,
 "nbformat_minor": 2
}
